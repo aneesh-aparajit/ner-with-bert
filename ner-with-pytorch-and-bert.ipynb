{
 "cells": [
  {
   "cell_type": "markdown",
   "id": "2859042a",
   "metadata": {
    "_cell_guid": "b1076dfc-b9ad-4769-8c92-a6c4dae69d19",
    "_uuid": "8f2839f25d086af736a60e9eeb907d3b93b6e0e5",
    "papermill": {
     "duration": 0.008225,
     "end_time": "2023-01-08T05:13:58.406268",
     "exception": false,
     "start_time": "2023-01-08T05:13:58.398043",
     "status": "completed"
    },
    "tags": []
   },
   "source": [
    "# Named Entity Recognition with BERT."
   ]
  },
  {
   "cell_type": "code",
   "execution_count": 1,
   "id": "b9cfddf9",
   "metadata": {
    "execution": {
     "iopub.execute_input": "2023-01-08T05:13:58.422349Z",
     "iopub.status.busy": "2023-01-08T05:13:58.421577Z",
     "iopub.status.idle": "2023-01-08T05:14:02.369539Z",
     "shell.execute_reply": "2023-01-08T05:14:02.368358Z"
    },
    "papermill": {
     "duration": 3.959051,
     "end_time": "2023-01-08T05:14:02.372396",
     "exception": false,
     "start_time": "2023-01-08T05:13:58.413345",
     "status": "completed"
    },
    "tags": []
   },
   "outputs": [],
   "source": [
    "import torch as T\n",
    "import torch.nn as nn\n",
    "import torch.optim as optim\n",
    "import torch.nn.functional as F\n",
    "from torch.utils.data import Dataset, DataLoader\n",
    "\n",
    "from transformers import AutoTokenizer, BertModel\n",
    "\n",
    "import pandas as pd\n",
    "import numpy as np\n",
    "import matplotlib.pyplot as plt\n",
    "\n",
    "from sklearn import preprocessing\n",
    "from sklearn import model_selection\n",
    "\n",
    "from typing import List, Dict, Tuple, Optional\n",
    "import warnings\n",
    "from tqdm import tqdm\n",
    "warnings.simplefilter('ignore')"
   ]
  },
  {
   "cell_type": "markdown",
   "id": "c751cf03",
   "metadata": {
    "papermill": {
     "duration": 0.006783,
     "end_time": "2023-01-08T05:14:02.386412",
     "exception": false,
     "start_time": "2023-01-08T05:14:02.379629",
     "status": "completed"
    },
    "tags": []
   },
   "source": [
    "## Dataset"
   ]
  },
  {
   "cell_type": "code",
   "execution_count": 2,
   "id": "ab5ea348",
   "metadata": {
    "execution": {
     "iopub.execute_input": "2023-01-08T05:14:02.403132Z",
     "iopub.status.busy": "2023-01-08T05:14:02.401545Z",
     "iopub.status.idle": "2023-01-08T05:14:03.095489Z",
     "shell.execute_reply": "2023-01-08T05:14:03.094493Z"
    },
    "papermill": {
     "duration": 0.704858,
     "end_time": "2023-01-08T05:14:03.098293",
     "exception": false,
     "start_time": "2023-01-08T05:14:02.393435",
     "status": "completed"
    },
    "tags": []
   },
   "outputs": [
    {
     "data": {
      "text/html": [
       "<div>\n",
       "<style scoped>\n",
       "    .dataframe tbody tr th:only-of-type {\n",
       "        vertical-align: middle;\n",
       "    }\n",
       "\n",
       "    .dataframe tbody tr th {\n",
       "        vertical-align: top;\n",
       "    }\n",
       "\n",
       "    .dataframe thead th {\n",
       "        text-align: right;\n",
       "    }\n",
       "</style>\n",
       "<table border=\"1\" class=\"dataframe\">\n",
       "  <thead>\n",
       "    <tr style=\"text-align: right;\">\n",
       "      <th></th>\n",
       "      <th>Sentence #</th>\n",
       "      <th>Word</th>\n",
       "      <th>POS</th>\n",
       "      <th>Tag</th>\n",
       "    </tr>\n",
       "  </thead>\n",
       "  <tbody>\n",
       "    <tr>\n",
       "      <th>0</th>\n",
       "      <td>Sentence: 1</td>\n",
       "      <td>Thousands</td>\n",
       "      <td>NNS</td>\n",
       "      <td>O</td>\n",
       "    </tr>\n",
       "    <tr>\n",
       "      <th>1</th>\n",
       "      <td>NaN</td>\n",
       "      <td>of</td>\n",
       "      <td>IN</td>\n",
       "      <td>O</td>\n",
       "    </tr>\n",
       "    <tr>\n",
       "      <th>2</th>\n",
       "      <td>NaN</td>\n",
       "      <td>demonstrators</td>\n",
       "      <td>NNS</td>\n",
       "      <td>O</td>\n",
       "    </tr>\n",
       "    <tr>\n",
       "      <th>3</th>\n",
       "      <td>NaN</td>\n",
       "      <td>have</td>\n",
       "      <td>VBP</td>\n",
       "      <td>O</td>\n",
       "    </tr>\n",
       "    <tr>\n",
       "      <th>4</th>\n",
       "      <td>NaN</td>\n",
       "      <td>marched</td>\n",
       "      <td>VBN</td>\n",
       "      <td>O</td>\n",
       "    </tr>\n",
       "    <tr>\n",
       "      <th>5</th>\n",
       "      <td>NaN</td>\n",
       "      <td>through</td>\n",
       "      <td>IN</td>\n",
       "      <td>O</td>\n",
       "    </tr>\n",
       "    <tr>\n",
       "      <th>6</th>\n",
       "      <td>NaN</td>\n",
       "      <td>London</td>\n",
       "      <td>NNP</td>\n",
       "      <td>B-geo</td>\n",
       "    </tr>\n",
       "    <tr>\n",
       "      <th>7</th>\n",
       "      <td>NaN</td>\n",
       "      <td>to</td>\n",
       "      <td>TO</td>\n",
       "      <td>O</td>\n",
       "    </tr>\n",
       "    <tr>\n",
       "      <th>8</th>\n",
       "      <td>NaN</td>\n",
       "      <td>protest</td>\n",
       "      <td>VB</td>\n",
       "      <td>O</td>\n",
       "    </tr>\n",
       "    <tr>\n",
       "      <th>9</th>\n",
       "      <td>NaN</td>\n",
       "      <td>the</td>\n",
       "      <td>DT</td>\n",
       "      <td>O</td>\n",
       "    </tr>\n",
       "  </tbody>\n",
       "</table>\n",
       "</div>"
      ],
      "text/plain": [
       "    Sentence #           Word  POS    Tag\n",
       "0  Sentence: 1      Thousands  NNS      O\n",
       "1          NaN             of   IN      O\n",
       "2          NaN  demonstrators  NNS      O\n",
       "3          NaN           have  VBP      O\n",
       "4          NaN        marched  VBN      O\n",
       "5          NaN        through   IN      O\n",
       "6          NaN         London  NNP  B-geo\n",
       "7          NaN             to   TO      O\n",
       "8          NaN        protest   VB      O\n",
       "9          NaN            the   DT      O"
      ]
     },
     "execution_count": 2,
     "metadata": {},
     "output_type": "execute_result"
    }
   ],
   "source": [
    "df = pd.read_csv('/kaggle/input/entity-annotated-corpus/ner_dataset.csv', encoding='latin-1')\n",
    "df.head(10)"
   ]
  },
  {
   "cell_type": "code",
   "execution_count": 3,
   "id": "6ba11990",
   "metadata": {
    "execution": {
     "iopub.execute_input": "2023-01-08T05:14:03.114625Z",
     "iopub.status.busy": "2023-01-08T05:14:03.114326Z",
     "iopub.status.idle": "2023-01-08T05:14:03.196646Z",
     "shell.execute_reply": "2023-01-08T05:14:03.194971Z"
    },
    "papermill": {
     "duration": 0.093494,
     "end_time": "2023-01-08T05:14:03.199632",
     "exception": false,
     "start_time": "2023-01-08T05:14:03.106138",
     "status": "completed"
    },
    "tags": []
   },
   "outputs": [
    {
     "data": {
      "text/html": [
       "<div>\n",
       "<style scoped>\n",
       "    .dataframe tbody tr th:only-of-type {\n",
       "        vertical-align: middle;\n",
       "    }\n",
       "\n",
       "    .dataframe tbody tr th {\n",
       "        vertical-align: top;\n",
       "    }\n",
       "\n",
       "    .dataframe thead th {\n",
       "        text-align: right;\n",
       "    }\n",
       "</style>\n",
       "<table border=\"1\" class=\"dataframe\">\n",
       "  <thead>\n",
       "    <tr style=\"text-align: right;\">\n",
       "      <th></th>\n",
       "      <th>Sentence #</th>\n",
       "      <th>Word</th>\n",
       "      <th>POS</th>\n",
       "      <th>Tag</th>\n",
       "    </tr>\n",
       "  </thead>\n",
       "  <tbody>\n",
       "    <tr>\n",
       "      <th>0</th>\n",
       "      <td>Sentence: 1</td>\n",
       "      <td>Thousands</td>\n",
       "      <td>NNS</td>\n",
       "      <td>O</td>\n",
       "    </tr>\n",
       "    <tr>\n",
       "      <th>1</th>\n",
       "      <td>Sentence: 1</td>\n",
       "      <td>of</td>\n",
       "      <td>IN</td>\n",
       "      <td>O</td>\n",
       "    </tr>\n",
       "    <tr>\n",
       "      <th>2</th>\n",
       "      <td>Sentence: 1</td>\n",
       "      <td>demonstrators</td>\n",
       "      <td>NNS</td>\n",
       "      <td>O</td>\n",
       "    </tr>\n",
       "    <tr>\n",
       "      <th>3</th>\n",
       "      <td>Sentence: 1</td>\n",
       "      <td>have</td>\n",
       "      <td>VBP</td>\n",
       "      <td>O</td>\n",
       "    </tr>\n",
       "    <tr>\n",
       "      <th>4</th>\n",
       "      <td>Sentence: 1</td>\n",
       "      <td>marched</td>\n",
       "      <td>VBN</td>\n",
       "      <td>O</td>\n",
       "    </tr>\n",
       "    <tr>\n",
       "      <th>5</th>\n",
       "      <td>Sentence: 1</td>\n",
       "      <td>through</td>\n",
       "      <td>IN</td>\n",
       "      <td>O</td>\n",
       "    </tr>\n",
       "    <tr>\n",
       "      <th>6</th>\n",
       "      <td>Sentence: 1</td>\n",
       "      <td>London</td>\n",
       "      <td>NNP</td>\n",
       "      <td>B-geo</td>\n",
       "    </tr>\n",
       "    <tr>\n",
       "      <th>7</th>\n",
       "      <td>Sentence: 1</td>\n",
       "      <td>to</td>\n",
       "      <td>TO</td>\n",
       "      <td>O</td>\n",
       "    </tr>\n",
       "    <tr>\n",
       "      <th>8</th>\n",
       "      <td>Sentence: 1</td>\n",
       "      <td>protest</td>\n",
       "      <td>VB</td>\n",
       "      <td>O</td>\n",
       "    </tr>\n",
       "    <tr>\n",
       "      <th>9</th>\n",
       "      <td>Sentence: 1</td>\n",
       "      <td>the</td>\n",
       "      <td>DT</td>\n",
       "      <td>O</td>\n",
       "    </tr>\n",
       "  </tbody>\n",
       "</table>\n",
       "</div>"
      ],
      "text/plain": [
       "    Sentence #           Word  POS    Tag\n",
       "0  Sentence: 1      Thousands  NNS      O\n",
       "1  Sentence: 1             of   IN      O\n",
       "2  Sentence: 1  demonstrators  NNS      O\n",
       "3  Sentence: 1           have  VBP      O\n",
       "4  Sentence: 1        marched  VBN      O\n",
       "5  Sentence: 1        through   IN      O\n",
       "6  Sentence: 1         London  NNP  B-geo\n",
       "7  Sentence: 1             to   TO      O\n",
       "8  Sentence: 1        protest   VB      O\n",
       "9  Sentence: 1            the   DT      O"
      ]
     },
     "execution_count": 3,
     "metadata": {},
     "output_type": "execute_result"
    }
   ],
   "source": [
    "df['Sentence #'] = df['Sentence #'].fillna(method='ffill')\n",
    "df.head(10)"
   ]
  },
  {
   "cell_type": "code",
   "execution_count": 4,
   "id": "4b3e135f",
   "metadata": {
    "execution": {
     "iopub.execute_input": "2023-01-08T05:14:03.218258Z",
     "iopub.status.busy": "2023-01-08T05:14:03.217933Z",
     "iopub.status.idle": "2023-01-08T05:14:08.219762Z",
     "shell.execute_reply": "2023-01-08T05:14:08.218807Z"
    },
    "papermill": {
     "duration": 5.012726,
     "end_time": "2023-01-08T05:14:08.222114",
     "exception": false,
     "start_time": "2023-01-08T05:14:03.209388",
     "status": "completed"
    },
    "tags": []
   },
   "outputs": [
    {
     "data": {
      "application/vnd.jupyter.widget-view+json": {
       "model_id": "884e7e5d01b3451fa6619e7dbcd4a6ae",
       "version_major": 2,
       "version_minor": 0
      },
      "text/plain": [
       "Downloading:   0%|          | 0.00/28.0 [00:00<?, ?B/s]"
      ]
     },
     "metadata": {},
     "output_type": "display_data"
    },
    {
     "data": {
      "application/vnd.jupyter.widget-view+json": {
       "model_id": "8416518bca9445fe95befd13c2fe4686",
       "version_major": 2,
       "version_minor": 0
      },
      "text/plain": [
       "Downloading:   0%|          | 0.00/570 [00:00<?, ?B/s]"
      ]
     },
     "metadata": {},
     "output_type": "display_data"
    },
    {
     "data": {
      "application/vnd.jupyter.widget-view+json": {
       "model_id": "c64ddcb27edc4a0d8e703df808cfc547",
       "version_major": 2,
       "version_minor": 0
      },
      "text/plain": [
       "Downloading:   0%|          | 0.00/226k [00:00<?, ?B/s]"
      ]
     },
     "metadata": {},
     "output_type": "display_data"
    },
    {
     "data": {
      "application/vnd.jupyter.widget-view+json": {
       "model_id": "6984d7ab04e346969e32637ebec4b44e",
       "version_major": 2,
       "version_minor": 0
      },
      "text/plain": [
       "Downloading:   0%|          | 0.00/455k [00:00<?, ?B/s]"
      ]
     },
     "metadata": {},
     "output_type": "display_data"
    }
   ],
   "source": [
    "class Config:\n",
    "    max_len = 128\n",
    "    epochs = 20\n",
    "    base_model = \"bert-base-uncased\"\n",
    "    tokenizer = AutoTokenizer.from_pretrained(base_model, do_lower_case=True)\n",
    "    train_batch_size = 32\n",
    "    valid_batch_size = 8\n",
    "    device = T.device(\"cuda\" if T.has_cuda else \"mps\" if T.has_mps else \"cpu\")\n",
    "\n",
    "config = Config()"
   ]
  },
  {
   "cell_type": "code",
   "execution_count": 5,
   "id": "df91f8fc",
   "metadata": {
    "execution": {
     "iopub.execute_input": "2023-01-08T05:14:08.240988Z",
     "iopub.status.busy": "2023-01-08T05:14:08.240674Z",
     "iopub.status.idle": "2023-01-08T05:14:08.254269Z",
     "shell.execute_reply": "2023-01-08T05:14:08.253308Z"
    },
    "papermill": {
     "duration": 0.02497,
     "end_time": "2023-01-08T05:14:08.256258",
     "exception": false,
     "start_time": "2023-01-08T05:14:08.231288",
     "status": "completed"
    },
    "tags": []
   },
   "outputs": [
    {
     "data": {
      "text/plain": [
       "{'input_ids': [7592], 'token_type_ids': [0], 'attention_mask': [1]}"
      ]
     },
     "execution_count": 5,
     "metadata": {},
     "output_type": "execute_result"
    }
   ],
   "source": [
    "config.tokenizer(\"hello\", add_special_tokens=False)"
   ]
  },
  {
   "cell_type": "code",
   "execution_count": 6,
   "id": "c2fe2638",
   "metadata": {
    "execution": {
     "iopub.execute_input": "2023-01-08T05:14:08.274016Z",
     "iopub.status.busy": "2023-01-08T05:14:08.273176Z",
     "iopub.status.idle": "2023-01-08T05:14:08.279725Z",
     "shell.execute_reply": "2023-01-08T05:14:08.278758Z"
    },
    "papermill": {
     "duration": 0.017362,
     "end_time": "2023-01-08T05:14:08.281664",
     "exception": false,
     "start_time": "2023-01-08T05:14:08.264302",
     "status": "completed"
    },
    "tags": []
   },
   "outputs": [
    {
     "data": {
      "text/plain": [
       "{'input_ids': [0], 'token_type_ids': [0], 'attention_mask': [1]}"
      ]
     },
     "execution_count": 6,
     "metadata": {},
     "output_type": "execute_result"
    }
   ],
   "source": [
    "config.tokenizer(\"[PAD]\", add_special_tokens=False)"
   ]
  },
  {
   "cell_type": "code",
   "execution_count": 7,
   "id": "f77c95b6",
   "metadata": {
    "execution": {
     "iopub.execute_input": "2023-01-08T05:14:08.299771Z",
     "iopub.status.busy": "2023-01-08T05:14:08.298945Z",
     "iopub.status.idle": "2023-01-08T05:14:08.305515Z",
     "shell.execute_reply": "2023-01-08T05:14:08.304542Z"
    },
    "papermill": {
     "duration": 0.017443,
     "end_time": "2023-01-08T05:14:08.307460",
     "exception": false,
     "start_time": "2023-01-08T05:14:08.290017",
     "status": "completed"
    },
    "tags": []
   },
   "outputs": [
    {
     "data": {
      "text/plain": [
       "{'input_ids': [101], 'token_type_ids': [0], 'attention_mask': [1]}"
      ]
     },
     "execution_count": 7,
     "metadata": {},
     "output_type": "execute_result"
    }
   ],
   "source": [
    "config.tokenizer(\"[CLS]\", add_special_tokens=False)"
   ]
  },
  {
   "cell_type": "code",
   "execution_count": 8,
   "id": "3c147959",
   "metadata": {
    "execution": {
     "iopub.execute_input": "2023-01-08T05:14:08.325412Z",
     "iopub.status.busy": "2023-01-08T05:14:08.324799Z",
     "iopub.status.idle": "2023-01-08T05:14:08.331262Z",
     "shell.execute_reply": "2023-01-08T05:14:08.330301Z"
    },
    "papermill": {
     "duration": 0.017458,
     "end_time": "2023-01-08T05:14:08.333247",
     "exception": false,
     "start_time": "2023-01-08T05:14:08.315789",
     "status": "completed"
    },
    "tags": []
   },
   "outputs": [
    {
     "data": {
      "text/plain": [
       "{'input_ids': [102], 'token_type_ids': [0], 'attention_mask': [1]}"
      ]
     },
     "execution_count": 8,
     "metadata": {},
     "output_type": "execute_result"
    }
   ],
   "source": [
    "config.tokenizer(\"[SEP]\", add_special_tokens=False)"
   ]
  },
  {
   "cell_type": "code",
   "execution_count": 9,
   "id": "e470af4b",
   "metadata": {
    "execution": {
     "iopub.execute_input": "2023-01-08T05:14:08.351301Z",
     "iopub.status.busy": "2023-01-08T05:14:08.351021Z",
     "iopub.status.idle": "2023-01-08T05:14:08.364256Z",
     "shell.execute_reply": "2023-01-08T05:14:08.363399Z"
    },
    "papermill": {
     "duration": 0.024619,
     "end_time": "2023-01-08T05:14:08.366237",
     "exception": false,
     "start_time": "2023-01-08T05:14:08.341618",
     "status": "completed"
    },
    "tags": []
   },
   "outputs": [],
   "source": [
    "class NERDataset(Dataset):\n",
    "    def __init__(self, sentences: List[List[str]], pos: List[List[int]], tags: List[List[int]]) -> None:\n",
    "        super(NERDataset, self).__init__()\n",
    "        self.sentences = sentences\n",
    "        self._pos = pos\n",
    "        self._tags = tags\n",
    "    \n",
    "    def __len__(self) -> int:\n",
    "        return len(self.sentences)\n",
    "    \n",
    "    def __getitem__(self, ix) -> Dict[str, T.Tensor]:\n",
    "        text = self.sentences[ix]\n",
    "        pos = self._pos[ix]\n",
    "        tags = self._tags[ix]\n",
    "        \n",
    "        ids = []\n",
    "        target_pos = []\n",
    "        target_tags = []\n",
    "        \n",
    "        for i, s in enumerate(text):\n",
    "            inputs = config.tokenizer(s, add_special_tokens=False)\n",
    "            \n",
    "            input_len = len(inputs['input_ids'])\n",
    "            \n",
    "            ids.extend(inputs['input_ids'])\n",
    "            target_pos.extend([pos[i]] * input_len)\n",
    "            target_tags.extend([tags[i]] * input_len)\n",
    "            \n",
    "        # adding the [CLS] and [SEP] tokens.\n",
    "        ids = ids[:config.max_len - 2] # because we also need to add the [CLS] and [SEP] tokens\n",
    "        target_pos = target_pos[:config.max_len - 2]\n",
    "        target_tags = target_tags[:config.max_len - 2]\n",
    "        \n",
    "        ids = [101] + ids + [102]\n",
    "        target_pos = [0] + target_pos + [0]\n",
    "        target_tags = [0] + target_tags + [0]\n",
    "        \n",
    "        attention_mask = [1] * len(ids)\n",
    "        token_type_ids = [0] * len(ids)\n",
    "        \n",
    "        # add padding.\n",
    "        padding_len = config.max_len - len(ids)\n",
    "        ids = ids + [0] * padding_len\n",
    "        target_pos = target_pos + [0] * padding_len\n",
    "        target_tags = target_tags + [0] * padding_len\n",
    "        \n",
    "        # building attention masks and token_type_ids\n",
    "        attention_mask = attention_mask + [0] * padding_len\n",
    "        token_type_ids = token_type_ids + [0] * padding_len\n",
    "        \n",
    "        return {\n",
    "            'input_ids': T.tensor(ids, dtype=T.long),\n",
    "            'attention_mask': T.tensor(attention_mask, dtype=T.long),\n",
    "            'token_type_ids': T.tensor(token_type_ids, dtype=T.long),\n",
    "            'target_pos': T.tensor(target_pos, dtype=T.long),\n",
    "            'target_tag': T.tensor(target_tags, dtype=T.long)\n",
    "        }"
   ]
  },
  {
   "cell_type": "markdown",
   "id": "ce3f9342",
   "metadata": {
    "papermill": {
     "duration": 0.008213,
     "end_time": "2023-01-08T05:14:08.382845",
     "exception": false,
     "start_time": "2023-01-08T05:14:08.374632",
     "status": "completed"
    },
    "tags": []
   },
   "source": [
    "### Encoding the POS and Tags"
   ]
  },
  {
   "cell_type": "code",
   "execution_count": 10,
   "id": "7b533ac8",
   "metadata": {
    "execution": {
     "iopub.execute_input": "2023-01-08T05:14:08.401173Z",
     "iopub.status.busy": "2023-01-08T05:14:08.400434Z",
     "iopub.status.idle": "2023-01-08T05:14:08.888691Z",
     "shell.execute_reply": "2023-01-08T05:14:08.887706Z"
    },
    "papermill": {
     "duration": 0.499875,
     "end_time": "2023-01-08T05:14:08.891159",
     "exception": false,
     "start_time": "2023-01-08T05:14:08.391284",
     "status": "completed"
    },
    "tags": []
   },
   "outputs": [],
   "source": [
    "pos_encoder = preprocessing.LabelEncoder()\n",
    "tag_encoder = preprocessing.LabelEncoder()\n",
    "\n",
    "df['POS'] = pos_encoder.fit_transform(df['POS'])\n",
    "df['Tag'] = tag_encoder.fit_transform(df['Tag'])"
   ]
  },
  {
   "cell_type": "code",
   "execution_count": 11,
   "id": "c29f67e4",
   "metadata": {
    "execution": {
     "iopub.execute_input": "2023-01-08T05:14:08.909767Z",
     "iopub.status.busy": "2023-01-08T05:14:08.909462Z",
     "iopub.status.idle": "2023-01-08T05:14:08.924445Z",
     "shell.execute_reply": "2023-01-08T05:14:08.923622Z"
    },
    "papermill": {
     "duration": 0.026536,
     "end_time": "2023-01-08T05:14:08.926531",
     "exception": false,
     "start_time": "2023-01-08T05:14:08.899995",
     "status": "completed"
    },
    "tags": []
   },
   "outputs": [
    {
     "data": {
      "text/html": [
       "<div>\n",
       "<style scoped>\n",
       "    .dataframe tbody tr th:only-of-type {\n",
       "        vertical-align: middle;\n",
       "    }\n",
       "\n",
       "    .dataframe tbody tr th {\n",
       "        vertical-align: top;\n",
       "    }\n",
       "\n",
       "    .dataframe thead th {\n",
       "        text-align: right;\n",
       "    }\n",
       "</style>\n",
       "<table border=\"1\" class=\"dataframe\">\n",
       "  <thead>\n",
       "    <tr style=\"text-align: right;\">\n",
       "      <th></th>\n",
       "      <th>Sentence #</th>\n",
       "      <th>Word</th>\n",
       "      <th>POS</th>\n",
       "      <th>Tag</th>\n",
       "    </tr>\n",
       "  </thead>\n",
       "  <tbody>\n",
       "    <tr>\n",
       "      <th>0</th>\n",
       "      <td>Sentence: 1</td>\n",
       "      <td>Thousands</td>\n",
       "      <td>19</td>\n",
       "      <td>16</td>\n",
       "    </tr>\n",
       "    <tr>\n",
       "      <th>1</th>\n",
       "      <td>Sentence: 1</td>\n",
       "      <td>of</td>\n",
       "      <td>10</td>\n",
       "      <td>16</td>\n",
       "    </tr>\n",
       "    <tr>\n",
       "      <th>2</th>\n",
       "      <td>Sentence: 1</td>\n",
       "      <td>demonstrators</td>\n",
       "      <td>19</td>\n",
       "      <td>16</td>\n",
       "    </tr>\n",
       "    <tr>\n",
       "      <th>3</th>\n",
       "      <td>Sentence: 1</td>\n",
       "      <td>have</td>\n",
       "      <td>35</td>\n",
       "      <td>16</td>\n",
       "    </tr>\n",
       "    <tr>\n",
       "      <th>4</th>\n",
       "      <td>Sentence: 1</td>\n",
       "      <td>marched</td>\n",
       "      <td>34</td>\n",
       "      <td>16</td>\n",
       "    </tr>\n",
       "    <tr>\n",
       "      <th>...</th>\n",
       "      <td>...</td>\n",
       "      <td>...</td>\n",
       "      <td>...</td>\n",
       "      <td>...</td>\n",
       "    </tr>\n",
       "    <tr>\n",
       "      <th>1048570</th>\n",
       "      <td>Sentence: 47959</td>\n",
       "      <td>they</td>\n",
       "      <td>22</td>\n",
       "      <td>16</td>\n",
       "    </tr>\n",
       "    <tr>\n",
       "      <th>1048571</th>\n",
       "      <td>Sentence: 47959</td>\n",
       "      <td>responded</td>\n",
       "      <td>32</td>\n",
       "      <td>16</td>\n",
       "    </tr>\n",
       "    <tr>\n",
       "      <th>1048572</th>\n",
       "      <td>Sentence: 47959</td>\n",
       "      <td>to</td>\n",
       "      <td>29</td>\n",
       "      <td>16</td>\n",
       "    </tr>\n",
       "    <tr>\n",
       "      <th>1048573</th>\n",
       "      <td>Sentence: 47959</td>\n",
       "      <td>the</td>\n",
       "      <td>7</td>\n",
       "      <td>16</td>\n",
       "    </tr>\n",
       "    <tr>\n",
       "      <th>1048574</th>\n",
       "      <td>Sentence: 47959</td>\n",
       "      <td>attack</td>\n",
       "      <td>16</td>\n",
       "      <td>16</td>\n",
       "    </tr>\n",
       "  </tbody>\n",
       "</table>\n",
       "<p>1048575 rows × 4 columns</p>\n",
       "</div>"
      ],
      "text/plain": [
       "              Sentence #           Word  POS  Tag\n",
       "0            Sentence: 1      Thousands   19   16\n",
       "1            Sentence: 1             of   10   16\n",
       "2            Sentence: 1  demonstrators   19   16\n",
       "3            Sentence: 1           have   35   16\n",
       "4            Sentence: 1        marched   34   16\n",
       "...                  ...            ...  ...  ...\n",
       "1048570  Sentence: 47959           they   22   16\n",
       "1048571  Sentence: 47959      responded   32   16\n",
       "1048572  Sentence: 47959             to   29   16\n",
       "1048573  Sentence: 47959            the    7   16\n",
       "1048574  Sentence: 47959         attack   16   16\n",
       "\n",
       "[1048575 rows x 4 columns]"
      ]
     },
     "execution_count": 11,
     "metadata": {},
     "output_type": "execute_result"
    }
   ],
   "source": [
    "df"
   ]
  },
  {
   "cell_type": "markdown",
   "id": "54e14c1b",
   "metadata": {
    "papermill": {
     "duration": 0.008646,
     "end_time": "2023-01-08T05:14:08.943897",
     "exception": false,
     "start_time": "2023-01-08T05:14:08.935251",
     "status": "completed"
    },
    "tags": []
   },
   "source": [
    "## Grouping the words"
   ]
  },
  {
   "cell_type": "code",
   "execution_count": 12,
   "id": "c4cc0c04",
   "metadata": {
    "execution": {
     "iopub.execute_input": "2023-01-08T05:14:08.962641Z",
     "iopub.status.busy": "2023-01-08T05:14:08.962367Z",
     "iopub.status.idle": "2023-01-08T05:14:09.901371Z",
     "shell.execute_reply": "2023-01-08T05:14:09.900368Z"
    },
    "papermill": {
     "duration": 0.951257,
     "end_time": "2023-01-08T05:14:09.903867",
     "exception": false,
     "start_time": "2023-01-08T05:14:08.952610",
     "status": "completed"
    },
    "tags": []
   },
   "outputs": [],
   "source": [
    "sentences = df.groupby('Sentence #')['Word'].apply(list).values"
   ]
  },
  {
   "cell_type": "code",
   "execution_count": 13,
   "id": "7542f3d8",
   "metadata": {
    "execution": {
     "iopub.execute_input": "2023-01-08T05:14:09.923012Z",
     "iopub.status.busy": "2023-01-08T05:14:09.922701Z",
     "iopub.status.idle": "2023-01-08T05:14:12.003280Z",
     "shell.execute_reply": "2023-01-08T05:14:12.002267Z"
    },
    "papermill": {
     "duration": 2.093402,
     "end_time": "2023-01-08T05:14:12.006298",
     "exception": false,
     "start_time": "2023-01-08T05:14:09.912896",
     "status": "completed"
    },
    "tags": []
   },
   "outputs": [],
   "source": [
    "pos = df.groupby('Sentence #')['POS'].apply(list).values\n",
    "tags = df.groupby('Sentence #')['Tag'].apply(list).values"
   ]
  },
  {
   "cell_type": "code",
   "execution_count": 14,
   "id": "f95ba87b",
   "metadata": {
    "execution": {
     "iopub.execute_input": "2023-01-08T05:14:12.034390Z",
     "iopub.status.busy": "2023-01-08T05:14:12.034039Z",
     "iopub.status.idle": "2023-01-08T05:14:12.040986Z",
     "shell.execute_reply": "2023-01-08T05:14:12.040144Z"
    },
    "papermill": {
     "duration": 0.026383,
     "end_time": "2023-01-08T05:14:12.046662",
     "exception": false,
     "start_time": "2023-01-08T05:14:12.020279",
     "status": "completed"
    },
    "tags": []
   },
   "outputs": [
    {
     "name": "stdout",
     "output_type": "stream",
     "text": [
      "#1\n",
      "\n",
      "s: ['Thousands', 'of', 'demonstrators', 'have', 'marched', 'through', 'London', 'to', 'protest', 'the', 'war', 'in', 'Iraq', 'and', 'demand', 'the', 'withdrawal', 'of', 'British', 'troops', 'from', 'that', 'country', '.']\n",
      "\n",
      "pos: [19, 10, 19, 35, 34, 10, 17, 29, 31, 7, 16, 10, 17, 5, 31, 7, 16, 10, 11, 19, 10, 7, 16, 2]\n",
      "\n",
      "tags: [16, 16, 16, 16, 16, 16, 2, 16, 16, 16, 16, 16, 2, 16, 16, 16, 16, 16, 3, 16, 16, 16, 16, 16]\n",
      "\n",
      "\n",
      "\n",
      "\n",
      "#2\n",
      "\n",
      "s: ['Iranian', 'officials', 'say', 'they', 'expect', 'to', 'get', 'access', 'to', 'sealed', 'sensitive', 'parts', 'of', 'the', 'plant', 'Wednesday', ',', 'after', 'an', 'IAEA', 'surveillance', 'system', 'begins', 'functioning', '.']\n",
      "\n",
      "pos: [11, 19, 35, 22, 35, 29, 31, 16, 29, 11, 11, 19, 10, 7, 16, 17, 1, 10, 7, 17, 16, 16, 36, 33, 2]\n",
      "\n",
      "tags: [3, 16, 16, 16, 16, 16, 16, 16, 16, 16, 16, 16, 16, 16, 16, 7, 16, 16, 16, 5, 16, 16, 16, 16, 16]\n",
      "\n",
      "\n",
      "\n",
      "\n",
      "#3\n",
      "\n",
      "s: ['Helicopter', 'gunships', 'Saturday', 'pounded', 'militant', 'hideouts', 'in', 'the', 'Orakzai', 'tribal', 'region', ',', 'where', 'many', 'Taliban', 'militants', 'are', 'believed', 'to', 'have', 'fled', 'to', 'avoid', 'an', 'earlier', 'military', 'offensive', 'in', 'nearby', 'South', 'Waziristan', '.']\n",
      "\n",
      "pos: [16, 19, 17, 32, 11, 19, 10, 7, 17, 11, 16, 1, 40, 11, 17, 19, 35, 34, 29, 31, 34, 29, 31, 7, 12, 11, 16, 10, 11, 17, 17, 2]\n",
      "\n",
      "tags: [16, 16, 7, 16, 16, 16, 16, 16, 2, 16, 16, 16, 16, 16, 5, 16, 16, 16, 16, 16, 16, 16, 16, 16, 16, 16, 16, 16, 16, 2, 10, 16]\n",
      "\n"
     ]
    }
   ],
   "source": [
    "for ix, s in enumerate(sentences):\n",
    "    print(f'#{ix+1}\\n')\n",
    "    print(f's: {s}\\n')\n",
    "    print(f'pos: {pos[ix]}\\n')\n",
    "    print(f'tags: {tags[ix]}\\n')\n",
    "    \n",
    "    if ix == 2:\n",
    "        break\n",
    "    print(f'\\n\\n')"
   ]
  },
  {
   "cell_type": "markdown",
   "id": "04f95be2",
   "metadata": {
    "papermill": {
     "duration": 0.01266,
     "end_time": "2023-01-08T05:14:12.072183",
     "exception": false,
     "start_time": "2023-01-08T05:14:12.059523",
     "status": "completed"
    },
    "tags": []
   },
   "source": [
    "### Splitting data into train and validation"
   ]
  },
  {
   "cell_type": "code",
   "execution_count": 15,
   "id": "9eddcfbf",
   "metadata": {
    "execution": {
     "iopub.execute_input": "2023-01-08T05:14:12.098905Z",
     "iopub.status.busy": "2023-01-08T05:14:12.098603Z",
     "iopub.status.idle": "2023-01-08T05:14:12.114915Z",
     "shell.execute_reply": "2023-01-08T05:14:12.114144Z"
    },
    "papermill": {
     "duration": 0.032398,
     "end_time": "2023-01-08T05:14:12.117400",
     "exception": false,
     "start_time": "2023-01-08T05:14:12.085002",
     "status": "completed"
    },
    "tags": []
   },
   "outputs": [],
   "source": [
    "train_sentence, valid_sentence, train_pos, valid_pos, train_tags, valid_tags = \\\n",
    "model_selection.train_test_split(sentences, pos, tags, test_size=0.1, random_state=42)"
   ]
  },
  {
   "cell_type": "markdown",
   "id": "86ac5479",
   "metadata": {
    "papermill": {
     "duration": 0.012813,
     "end_time": "2023-01-08T05:14:12.143391",
     "exception": false,
     "start_time": "2023-01-08T05:14:12.130578",
     "status": "completed"
    },
    "tags": []
   },
   "source": [
    "## Build the datasets and dataloaders"
   ]
  },
  {
   "cell_type": "code",
   "execution_count": 16,
   "id": "5562d87d",
   "metadata": {
    "execution": {
     "iopub.execute_input": "2023-01-08T05:14:12.181543Z",
     "iopub.status.busy": "2023-01-08T05:14:12.178842Z",
     "iopub.status.idle": "2023-01-08T05:14:12.187849Z",
     "shell.execute_reply": "2023-01-08T05:14:12.187244Z"
    },
    "papermill": {
     "duration": 0.03527,
     "end_time": "2023-01-08T05:14:12.192864",
     "exception": false,
     "start_time": "2023-01-08T05:14:12.157594",
     "status": "completed"
    },
    "tags": []
   },
   "outputs": [],
   "source": [
    "train_dataset = NERDataset(\n",
    "    sentences=train_sentence, \n",
    "    pos=train_pos, \n",
    "    tags=train_tags\n",
    ")\n",
    "\n",
    "valid_dataset = NERDataset(\n",
    "    sentences=valid_sentence, \n",
    "    pos=valid_pos, \n",
    "    tags=valid_tags\n",
    ")"
   ]
  },
  {
   "cell_type": "code",
   "execution_count": 17,
   "id": "43607015",
   "metadata": {
    "execution": {
     "iopub.execute_input": "2023-01-08T05:14:12.217117Z",
     "iopub.status.busy": "2023-01-08T05:14:12.216832Z",
     "iopub.status.idle": "2023-01-08T05:14:12.221557Z",
     "shell.execute_reply": "2023-01-08T05:14:12.220479Z"
    },
    "papermill": {
     "duration": 0.018163,
     "end_time": "2023-01-08T05:14:12.224267",
     "exception": false,
     "start_time": "2023-01-08T05:14:12.206104",
     "status": "completed"
    },
    "tags": []
   },
   "outputs": [],
   "source": [
    "trainloader = DataLoader(\n",
    "    dataset=train_dataset, \n",
    "    batch_size=config.train_batch_size, \n",
    "    shuffle=True, \n",
    "    drop_last=True\n",
    ")\n",
    "\n",
    "validloader = DataLoader(\n",
    "    dataset=valid_dataset, \n",
    "    batch_size=config.valid_batch_size, \n",
    "    drop_last=True\n",
    ")"
   ]
  },
  {
   "cell_type": "code",
   "execution_count": 18,
   "id": "a86990da",
   "metadata": {
    "execution": {
     "iopub.execute_input": "2023-01-08T05:14:12.245129Z",
     "iopub.status.busy": "2023-01-08T05:14:12.244847Z",
     "iopub.status.idle": "2023-01-08T05:14:12.296851Z",
     "shell.execute_reply": "2023-01-08T05:14:12.295797Z"
    },
    "papermill": {
     "duration": 0.06482,
     "end_time": "2023-01-08T05:14:12.298937",
     "exception": false,
     "start_time": "2023-01-08T05:14:12.234117",
     "status": "completed"
    },
    "tags": []
   },
   "outputs": [
    {
     "name": "stdout",
     "output_type": "stream",
     "text": [
      "input_ids: torch.Size([32, 128])\n",
      "attention_mask: torch.Size([32, 128])\n",
      "token_type_ids: torch.Size([32, 128])\n",
      "target_pos: torch.Size([32, 128])\n",
      "target_tag: torch.Size([32, 128])\n"
     ]
    }
   ],
   "source": [
    "batch = next(iter(trainloader))\n",
    "\n",
    "for k, v in batch.items():\n",
    "    print(f'{k}: {v.shape}')"
   ]
  },
  {
   "cell_type": "code",
   "execution_count": 19,
   "id": "e54a3516",
   "metadata": {
    "execution": {
     "iopub.execute_input": "2023-01-08T05:14:12.319375Z",
     "iopub.status.busy": "2023-01-08T05:14:12.319007Z",
     "iopub.status.idle": "2023-01-08T05:14:12.338735Z",
     "shell.execute_reply": "2023-01-08T05:14:12.337716Z"
    },
    "papermill": {
     "duration": 0.032315,
     "end_time": "2023-01-08T05:14:12.340980",
     "exception": false,
     "start_time": "2023-01-08T05:14:12.308665",
     "status": "completed"
    },
    "tags": []
   },
   "outputs": [
    {
     "name": "stdout",
     "output_type": "stream",
     "text": [
      "input_ids: torch.Size([8, 128])\n",
      "attention_mask: torch.Size([8, 128])\n",
      "token_type_ids: torch.Size([8, 128])\n",
      "target_pos: torch.Size([8, 128])\n",
      "target_tag: torch.Size([8, 128])\n"
     ]
    }
   ],
   "source": [
    "batch = next(iter(validloader))\n",
    "\n",
    "for k, v in batch.items():\n",
    "    print(f'{k}: {v.shape}')"
   ]
  },
  {
   "cell_type": "markdown",
   "id": "bcfa5e74",
   "metadata": {
    "papermill": {
     "duration": 0.009439,
     "end_time": "2023-01-08T05:14:12.360106",
     "exception": false,
     "start_time": "2023-01-08T05:14:12.350667",
     "status": "completed"
    },
    "tags": []
   },
   "source": [
    "## Model"
   ]
  },
  {
   "cell_type": "code",
   "execution_count": 20,
   "id": "388e85a4",
   "metadata": {
    "execution": {
     "iopub.execute_input": "2023-01-08T05:14:12.380414Z",
     "iopub.status.busy": "2023-01-08T05:14:12.380142Z",
     "iopub.status.idle": "2023-01-08T05:14:12.388577Z",
     "shell.execute_reply": "2023-01-08T05:14:12.387629Z"
    },
    "papermill": {
     "duration": 0.021108,
     "end_time": "2023-01-08T05:14:12.390779",
     "exception": false,
     "start_time": "2023-01-08T05:14:12.369671",
     "status": "completed"
    },
    "tags": []
   },
   "outputs": [
    {
     "data": {
      "text/plain": [
       "(42, 17)"
      ]
     },
     "execution_count": 20,
     "metadata": {},
     "output_type": "execute_result"
    }
   ],
   "source": [
    "n_pos = len(pos_encoder.classes_)\n",
    "n_tag = len(tag_encoder.classes_)\n",
    "\n",
    "n_pos, n_tag"
   ]
  },
  {
   "cell_type": "code",
   "execution_count": 21,
   "id": "7285616b",
   "metadata": {
    "execution": {
     "iopub.execute_input": "2023-01-08T05:14:12.410845Z",
     "iopub.status.busy": "2023-01-08T05:14:12.410586Z",
     "iopub.status.idle": "2023-01-08T05:14:12.417978Z",
     "shell.execute_reply": "2023-01-08T05:14:12.417005Z"
    },
    "papermill": {
     "duration": 0.019465,
     "end_time": "2023-01-08T05:14:12.419926",
     "exception": false,
     "start_time": "2023-01-08T05:14:12.400461",
     "status": "completed"
    },
    "tags": []
   },
   "outputs": [],
   "source": [
    "class NERModel(nn.Module):\n",
    "    def __init__(self, n_pos, n_tag):\n",
    "        super(NERModel, self).__init__()\n",
    "        self.bert = BertModel.from_pretrained(config.base_model)\n",
    "        self.pos_drop = nn.Dropout(p=0.3)\n",
    "        self.tag_drop = nn.Dropout(p=0.3)\n",
    "        self.pos_linear = nn.Linear(768, n_pos)\n",
    "        self.tag_linear = nn.Linear(768, n_tag)\n",
    "    \n",
    "    def forward(self, input_ids, attention_mask, token_type_ids, target_pos, target_tag):\n",
    "        bert_out = self.bert(\n",
    "            input_ids=input_ids, \n",
    "            attention_mask=attention_mask,\n",
    "            token_type_ids=token_type_ids\n",
    "        ).last_hidden_state\n",
    "        \n",
    "        pos_out = self.pos_drop(bert_out)\n",
    "        tag_out = self.pos_drop(bert_out)\n",
    "        \n",
    "        pos_out = self.pos_linear(pos_out)\n",
    "        tag_out = self.tag_linear(tag_out)\n",
    "        \n",
    "        return pos_out, tag_out"
   ]
  },
  {
   "cell_type": "markdown",
   "id": "fbf907de",
   "metadata": {
    "papermill": {
     "duration": 0.009337,
     "end_time": "2023-01-08T05:14:12.438587",
     "exception": false,
     "start_time": "2023-01-08T05:14:12.429250",
     "status": "completed"
    },
    "tags": []
   },
   "source": [
    "### Testing"
   ]
  },
  {
   "cell_type": "code",
   "execution_count": 22,
   "id": "bb6fe407",
   "metadata": {
    "execution": {
     "iopub.execute_input": "2023-01-08T05:14:12.458776Z",
     "iopub.status.busy": "2023-01-08T05:14:12.458013Z",
     "iopub.status.idle": "2023-01-08T05:14:39.733365Z",
     "shell.execute_reply": "2023-01-08T05:14:39.732037Z"
    },
    "papermill": {
     "duration": 27.289438,
     "end_time": "2023-01-08T05:14:39.737374",
     "exception": false,
     "start_time": "2023-01-08T05:14:12.447936",
     "status": "completed"
    },
    "tags": []
   },
   "outputs": [
    {
     "data": {
      "application/vnd.jupyter.widget-view+json": {
       "model_id": "e42de00ecadc4470bb19cc6705b5893d",
       "version_major": 2,
       "version_minor": 0
      },
      "text/plain": [
       "Downloading:   0%|          | 0.00/420M [00:00<?, ?B/s]"
      ]
     },
     "metadata": {},
     "output_type": "display_data"
    },
    {
     "name": "stderr",
     "output_type": "stream",
     "text": [
      "Some weights of the model checkpoint at bert-base-uncased were not used when initializing BertModel: ['cls.predictions.transform.dense.weight', 'cls.predictions.transform.LayerNorm.weight', 'cls.predictions.transform.LayerNorm.bias', 'cls.seq_relationship.weight', 'cls.seq_relationship.bias', 'cls.predictions.decoder.weight', 'cls.predictions.transform.dense.bias', 'cls.predictions.bias']\n",
      "- This IS expected if you are initializing BertModel from the checkpoint of a model trained on another task or with another architecture (e.g. initializing a BertForSequenceClassification model from a BertForPreTraining model).\n",
      "- This IS NOT expected if you are initializing BertModel from the checkpoint of a model that you expect to be exactly identical (initializing a BertForSequenceClassification model from a BertForSequenceClassification model).\n"
     ]
    }
   ],
   "source": [
    "model = NERModel(n_pos=n_pos, n_tag=n_tag)\n",
    "pos_out, tag_out = model.forward(**batch)"
   ]
  },
  {
   "cell_type": "code",
   "execution_count": 23,
   "id": "9872e9de",
   "metadata": {
    "execution": {
     "iopub.execute_input": "2023-01-08T05:14:39.791623Z",
     "iopub.status.busy": "2023-01-08T05:14:39.790993Z",
     "iopub.status.idle": "2023-01-08T05:14:39.803731Z",
     "shell.execute_reply": "2023-01-08T05:14:39.802611Z"
    },
    "papermill": {
     "duration": 0.043473,
     "end_time": "2023-01-08T05:14:39.807372",
     "exception": false,
     "start_time": "2023-01-08T05:14:39.763899",
     "status": "completed"
    },
    "tags": []
   },
   "outputs": [
    {
     "data": {
      "text/plain": [
       "(torch.Size([8, 128, 42]), torch.Size([8, 128, 17]))"
      ]
     },
     "execution_count": 23,
     "metadata": {},
     "output_type": "execute_result"
    }
   ],
   "source": [
    "pos_out.shape, tag_out.shape"
   ]
  },
  {
   "cell_type": "code",
   "execution_count": 24,
   "id": "3f30debe",
   "metadata": {
    "execution": {
     "iopub.execute_input": "2023-01-08T05:14:39.861540Z",
     "iopub.status.busy": "2023-01-08T05:14:39.861038Z",
     "iopub.status.idle": "2023-01-08T05:14:39.874111Z",
     "shell.execute_reply": "2023-01-08T05:14:39.873119Z"
    },
    "papermill": {
     "duration": 0.044351,
     "end_time": "2023-01-08T05:14:39.877682",
     "exception": false,
     "start_time": "2023-01-08T05:14:39.833331",
     "status": "completed"
    },
    "tags": []
   },
   "outputs": [
    {
     "data": {
      "text/plain": [
       "(torch.Size([8, 128]), torch.Size([8, 128]))"
      ]
     },
     "execution_count": 24,
     "metadata": {},
     "output_type": "execute_result"
    }
   ],
   "source": [
    "batch['target_pos'].shape, batch['target_tag'].shape"
   ]
  },
  {
   "cell_type": "markdown",
   "id": "5ce5649d",
   "metadata": {
    "papermill": {
     "duration": 0.025774,
     "end_time": "2023-01-08T05:14:39.929904",
     "exception": false,
     "start_time": "2023-01-08T05:14:39.904130",
     "status": "completed"
    },
    "tags": []
   },
   "source": [
    "## Training\n",
    "\n",
    "### Loss Function"
   ]
  },
  {
   "cell_type": "code",
   "execution_count": 25,
   "id": "7268c011",
   "metadata": {
    "execution": {
     "iopub.execute_input": "2023-01-08T05:14:39.984278Z",
     "iopub.status.busy": "2023-01-08T05:14:39.983710Z",
     "iopub.status.idle": "2023-01-08T05:14:39.997321Z",
     "shell.execute_reply": "2023-01-08T05:14:39.996205Z"
    },
    "papermill": {
     "duration": 0.045089,
     "end_time": "2023-01-08T05:14:40.001127",
     "exception": false,
     "start_time": "2023-01-08T05:14:39.956038",
     "status": "completed"
    },
    "tags": []
   },
   "outputs": [],
   "source": [
    "def loss_fn(prediction, target, masks, n_classes):\n",
    "    lfn = nn.CrossEntropyLoss()\n",
    "    '''We don't want to calculate the loss for the PAD tokens.'''\n",
    "    logits = prediction.view(-1, n_classes)\n",
    "    \n",
    "    masks = masks.view(-1)\n",
    "    \n",
    "    target = target.view(-1)\n",
    "    target = T.where(\n",
    "        masks == 1, \n",
    "        target, \n",
    "        T.tensor(lfn.ignore_index).type_as(target)\n",
    "    )\n",
    "    \n",
    "    return lfn(logits, target)"
   ]
  },
  {
   "cell_type": "code",
   "execution_count": 26,
   "id": "cc813d67",
   "metadata": {
    "execution": {
     "iopub.execute_input": "2023-01-08T05:14:40.055377Z",
     "iopub.status.busy": "2023-01-08T05:14:40.054889Z",
     "iopub.status.idle": "2023-01-08T05:14:40.070635Z",
     "shell.execute_reply": "2023-01-08T05:14:40.069630Z"
    },
    "papermill": {
     "duration": 0.046891,
     "end_time": "2023-01-08T05:14:40.074208",
     "exception": false,
     "start_time": "2023-01-08T05:14:40.027317",
     "status": "completed"
    },
    "tags": []
   },
   "outputs": [
    {
     "data": {
      "text/plain": [
       "tensor(3.8552, grad_fn=<NllLossBackward0>)"
      ]
     },
     "execution_count": 26,
     "metadata": {},
     "output_type": "execute_result"
    }
   ],
   "source": [
    "loss_fn(pos_out, batch['target_pos'], batch['attention_mask'], n_pos)"
   ]
  },
  {
   "cell_type": "markdown",
   "id": "fe9888c3",
   "metadata": {
    "papermill": {
     "duration": 0.014671,
     "end_time": "2023-01-08T05:14:40.115721",
     "exception": false,
     "start_time": "2023-01-08T05:14:40.101050",
     "status": "completed"
    },
    "tags": []
   },
   "source": [
    "### Training and Eval functions"
   ]
  },
  {
   "cell_type": "code",
   "execution_count": 27,
   "id": "0bc4a7f3",
   "metadata": {
    "execution": {
     "iopub.execute_input": "2023-01-08T05:14:40.137038Z",
     "iopub.status.busy": "2023-01-08T05:14:40.136708Z",
     "iopub.status.idle": "2023-01-08T05:14:40.145887Z",
     "shell.execute_reply": "2023-01-08T05:14:40.144990Z"
    },
    "papermill": {
     "duration": 0.022042,
     "end_time": "2023-01-08T05:14:40.147741",
     "exception": false,
     "start_time": "2023-01-08T05:14:40.125699",
     "status": "completed"
    },
    "tags": []
   },
   "outputs": [],
   "source": [
    "def train_fn(dataloader, model, optimizer, scheduler):\n",
    "    model.train()\n",
    "    \n",
    "    running_loss = 0.0\n",
    "    for batch in tqdm(dataloader):\n",
    "        for k, v in batch.items():\n",
    "            batch[k] = v.to(config.device)\n",
    "        \n",
    "        pos_out, tag_out = model.forward(**batch)\n",
    "        \n",
    "        pos_loss = loss_fn(pos_out, batch['target_pos'], batch['attention_mask'], n_pos)\n",
    "        tag_loss = loss_fn(tag_out, batch['target_tag'], batch['attention_mask'], n_tag)\n",
    "        \n",
    "        total_loss = (pos_loss + tag_loss) / 2\n",
    "        \n",
    "        optimizer.zero_grad()\n",
    "        total_loss.backward()\n",
    "        optimizer.step()\n",
    "        scheduler.step()\n",
    "        \n",
    "        running_loss += total_loss.item()\n",
    "    \n",
    "    return running_loss / len(dataloader)\n",
    "\n",
    "\n",
    "def eval_fn(dataloader, model):\n",
    "    model.eval()\n",
    "    \n",
    "    running_loss = 0.0\n",
    "    for batch in dataloader:\n",
    "        for k, v in batch.items():\n",
    "            batch[k] = v.to(config.device)\n",
    "        \n",
    "        pos_out, tag_out = model.forward(**batch)\n",
    "        \n",
    "        pos_loss = loss_fn(pos_out, batch['target_pos'], batch['attention_mask'], n_pos)\n",
    "        tag_loss = loss_fn(tag_out, batch['target_tag'], batch['attention_mask'], n_tag)\n",
    "        \n",
    "        total_loss = (pos_loss + tag_loss) / 2\n",
    "        running_loss += total_loss.item()\n",
    "    \n",
    "    return running_loss / len(dataloader)"
   ]
  },
  {
   "cell_type": "markdown",
   "id": "de25f504",
   "metadata": {
    "papermill": {
     "duration": 0.00997,
     "end_time": "2023-01-08T05:14:40.167734",
     "exception": false,
     "start_time": "2023-01-08T05:14:40.157764",
     "status": "completed"
    },
    "tags": []
   },
   "source": [
    "## Train the model"
   ]
  },
  {
   "cell_type": "code",
   "execution_count": 28,
   "id": "d69f73ec",
   "metadata": {
    "execution": {
     "iopub.execute_input": "2023-01-08T05:14:40.189698Z",
     "iopub.status.busy": "2023-01-08T05:14:40.188859Z",
     "iopub.status.idle": "2023-01-08T05:14:45.268407Z",
     "shell.execute_reply": "2023-01-08T05:14:45.267373Z"
    },
    "papermill": {
     "duration": 5.094059,
     "end_time": "2023-01-08T05:14:45.271822",
     "exception": false,
     "start_time": "2023-01-08T05:14:40.177763",
     "status": "completed"
    },
    "tags": []
   },
   "outputs": [
    {
     "name": "stderr",
     "output_type": "stream",
     "text": [
      "Some weights of the model checkpoint at bert-base-uncased were not used when initializing BertModel: ['cls.predictions.transform.dense.weight', 'cls.predictions.transform.LayerNorm.weight', 'cls.predictions.transform.LayerNorm.bias', 'cls.seq_relationship.weight', 'cls.seq_relationship.bias', 'cls.predictions.decoder.weight', 'cls.predictions.transform.dense.bias', 'cls.predictions.bias']\n",
      "- This IS expected if you are initializing BertModel from the checkpoint of a model trained on another task or with another architecture (e.g. initializing a BertForSequenceClassification model from a BertForPreTraining model).\n",
      "- This IS NOT expected if you are initializing BertModel from the checkpoint of a model that you expect to be exactly identical (initializing a BertForSequenceClassification model from a BertForSequenceClassification model).\n"
     ]
    }
   ],
   "source": [
    "model = NERModel(n_pos=n_pos, n_tag=n_tag).to(config.device)\n",
    "optimizer = optim.Adam(model.parameters())\n",
    "scheduler = optim.lr_scheduler.StepLR(optimizer=optimizer, step_size=5, gamma=0.1)"
   ]
  },
  {
   "cell_type": "code",
   "execution_count": 29,
   "id": "ec30184a",
   "metadata": {
    "execution": {
     "iopub.execute_input": "2023-01-08T05:14:45.295679Z",
     "iopub.status.busy": "2023-01-08T05:14:45.294793Z",
     "iopub.status.idle": "2023-01-08T05:14:45.301445Z",
     "shell.execute_reply": "2023-01-08T05:14:45.300415Z"
    },
    "papermill": {
     "duration": 0.020906,
     "end_time": "2023-01-08T05:14:45.303916",
     "exception": false,
     "start_time": "2023-01-08T05:14:45.283010",
     "status": "completed"
    },
    "tags": []
   },
   "outputs": [
    {
     "data": {
      "text/plain": [
       "device(type='cuda')"
      ]
     },
     "execution_count": 29,
     "metadata": {},
     "output_type": "execute_result"
    }
   ],
   "source": [
    "config.device"
   ]
  },
  {
   "cell_type": "code",
   "execution_count": 30,
   "id": "3a76260e",
   "metadata": {
    "execution": {
     "iopub.execute_input": "2023-01-08T05:14:45.326554Z",
     "iopub.status.busy": "2023-01-08T05:14:45.326282Z",
     "iopub.status.idle": "2023-01-08T08:26:27.183355Z",
     "shell.execute_reply": "2023-01-08T08:26:27.182331Z"
    },
    "papermill": {
     "duration": 11503.379786,
     "end_time": "2023-01-08T08:26:28.694058",
     "exception": false,
     "start_time": "2023-01-08T05:14:45.314272",
     "status": "completed"
    },
    "tags": []
   },
   "outputs": [
    {
     "name": "stderr",
     "output_type": "stream",
     "text": [
      "100%|██████████| 1348/1348 [09:09<00:00,  2.45it/s]\n"
     ]
    },
    {
     "name": "stdout",
     "output_type": "stream",
     "text": [
      "Epoch #1 / 20 -- train loss: 2.055; valid loss: 2.030\n"
     ]
    },
    {
     "name": "stderr",
     "output_type": "stream",
     "text": [
      "100%|██████████| 1348/1348 [09:07<00:00,  2.46it/s]\n"
     ]
    },
    {
     "name": "stdout",
     "output_type": "stream",
     "text": [
      "Epoch #2 / 20 -- train loss: 2.051; valid loss: 2.030\n"
     ]
    },
    {
     "name": "stderr",
     "output_type": "stream",
     "text": [
      "100%|██████████| 1348/1348 [09:08<00:00,  2.46it/s]\n"
     ]
    },
    {
     "name": "stdout",
     "output_type": "stream",
     "text": [
      "Epoch #3 / 20 -- train loss: 2.051; valid loss: 2.030\n"
     ]
    },
    {
     "name": "stderr",
     "output_type": "stream",
     "text": [
      "100%|██████████| 1348/1348 [09:08<00:00,  2.46it/s]\n"
     ]
    },
    {
     "name": "stdout",
     "output_type": "stream",
     "text": [
      "Epoch #4 / 20 -- train loss: 2.052; valid loss: 2.030\n"
     ]
    },
    {
     "name": "stderr",
     "output_type": "stream",
     "text": [
      "100%|██████████| 1348/1348 [09:08<00:00,  2.46it/s]\n"
     ]
    },
    {
     "name": "stdout",
     "output_type": "stream",
     "text": [
      "Epoch #5 / 20 -- train loss: 2.052; valid loss: 2.030\n"
     ]
    },
    {
     "name": "stderr",
     "output_type": "stream",
     "text": [
      "100%|██████████| 1348/1348 [09:07<00:00,  2.46it/s]\n"
     ]
    },
    {
     "name": "stdout",
     "output_type": "stream",
     "text": [
      "Epoch #6 / 20 -- train loss: 2.051; valid loss: 2.030\n"
     ]
    },
    {
     "name": "stderr",
     "output_type": "stream",
     "text": [
      "100%|██████████| 1348/1348 [09:08<00:00,  2.46it/s]\n"
     ]
    },
    {
     "name": "stdout",
     "output_type": "stream",
     "text": [
      "Epoch #7 / 20 -- train loss: 2.052; valid loss: 2.030\n"
     ]
    },
    {
     "name": "stderr",
     "output_type": "stream",
     "text": [
      "100%|██████████| 1348/1348 [09:07<00:00,  2.46it/s]\n"
     ]
    },
    {
     "name": "stdout",
     "output_type": "stream",
     "text": [
      "Epoch #8 / 20 -- train loss: 2.051; valid loss: 2.030\n"
     ]
    },
    {
     "name": "stderr",
     "output_type": "stream",
     "text": [
      "100%|██████████| 1348/1348 [09:10<00:00,  2.45it/s]\n"
     ]
    },
    {
     "name": "stdout",
     "output_type": "stream",
     "text": [
      "Epoch #9 / 20 -- train loss: 2.051; valid loss: 2.030\n"
     ]
    },
    {
     "name": "stderr",
     "output_type": "stream",
     "text": [
      "100%|██████████| 1348/1348 [09:09<00:00,  2.45it/s]\n"
     ]
    },
    {
     "name": "stdout",
     "output_type": "stream",
     "text": [
      "Epoch #10 / 20 -- train loss: 2.052; valid loss: 2.030\n"
     ]
    },
    {
     "name": "stderr",
     "output_type": "stream",
     "text": [
      "100%|██████████| 1348/1348 [09:10<00:00,  2.45it/s]\n"
     ]
    },
    {
     "name": "stdout",
     "output_type": "stream",
     "text": [
      "Epoch #11 / 20 -- train loss: 2.051; valid loss: 2.030\n"
     ]
    },
    {
     "name": "stderr",
     "output_type": "stream",
     "text": [
      "100%|██████████| 1348/1348 [09:08<00:00,  2.46it/s]\n"
     ]
    },
    {
     "name": "stdout",
     "output_type": "stream",
     "text": [
      "Epoch #12 / 20 -- train loss: 2.052; valid loss: 2.030\n"
     ]
    },
    {
     "name": "stderr",
     "output_type": "stream",
     "text": [
      "100%|██████████| 1348/1348 [09:09<00:00,  2.45it/s]\n"
     ]
    },
    {
     "name": "stdout",
     "output_type": "stream",
     "text": [
      "Epoch #13 / 20 -- train loss: 2.051; valid loss: 2.030\n"
     ]
    },
    {
     "name": "stderr",
     "output_type": "stream",
     "text": [
      "100%|██████████| 1348/1348 [09:09<00:00,  2.45it/s]\n"
     ]
    },
    {
     "name": "stdout",
     "output_type": "stream",
     "text": [
      "Epoch #14 / 20 -- train loss: 2.051; valid loss: 2.030\n"
     ]
    },
    {
     "name": "stderr",
     "output_type": "stream",
     "text": [
      "100%|██████████| 1348/1348 [09:09<00:00,  2.45it/s]\n"
     ]
    },
    {
     "name": "stdout",
     "output_type": "stream",
     "text": [
      "Epoch #15 / 20 -- train loss: 2.051; valid loss: 2.030\n"
     ]
    },
    {
     "name": "stderr",
     "output_type": "stream",
     "text": [
      "100%|██████████| 1348/1348 [09:11<00:00,  2.45it/s]\n"
     ]
    },
    {
     "name": "stdout",
     "output_type": "stream",
     "text": [
      "Epoch #16 / 20 -- train loss: 2.051; valid loss: 2.030\n"
     ]
    },
    {
     "name": "stderr",
     "output_type": "stream",
     "text": [
      "100%|██████████| 1348/1348 [09:11<00:00,  2.45it/s]\n"
     ]
    },
    {
     "name": "stdout",
     "output_type": "stream",
     "text": [
      "Epoch #17 / 20 -- train loss: 2.051; valid loss: 2.030\n"
     ]
    },
    {
     "name": "stderr",
     "output_type": "stream",
     "text": [
      "100%|██████████| 1348/1348 [09:11<00:00,  2.44it/s]\n"
     ]
    },
    {
     "name": "stdout",
     "output_type": "stream",
     "text": [
      "Epoch #18 / 20 -- train loss: 2.051; valid loss: 2.030\n"
     ]
    },
    {
     "name": "stderr",
     "output_type": "stream",
     "text": [
      "100%|██████████| 1348/1348 [09:11<00:00,  2.44it/s]\n"
     ]
    },
    {
     "name": "stdout",
     "output_type": "stream",
     "text": [
      "Epoch #19 / 20 -- train loss: 2.051; valid loss: 2.030\n"
     ]
    },
    {
     "name": "stderr",
     "output_type": "stream",
     "text": [
      "100%|██████████| 1348/1348 [09:11<00:00,  2.44it/s]\n"
     ]
    },
    {
     "name": "stdout",
     "output_type": "stream",
     "text": [
      "Epoch #20 / 20 -- train loss: 2.051; valid loss: 2.030\n"
     ]
    }
   ],
   "source": [
    "for epoch in range(config.epochs):\n",
    "    train_loss = train_fn(trainloader, model, optimizer, scheduler)\n",
    "    valid_loss = eval_fn(validloader, model)\n",
    "    \n",
    "    print(f'Epoch #{epoch+1} / {config.epochs} -- train loss: {train_loss:.3f}; valid loss: {valid_loss:.3f}')"
   ]
  },
  {
   "cell_type": "markdown",
   "id": "6c6a447a",
   "metadata": {
    "papermill": {
     "duration": 1.462027,
     "end_time": "2023-01-08T08:26:31.721333",
     "exception": false,
     "start_time": "2023-01-08T08:26:30.259306",
     "status": "completed"
    },
    "tags": []
   },
   "source": [
    "## Evaluation"
   ]
  },
  {
   "cell_type": "code",
   "execution_count": 31,
   "id": "cc27825c",
   "metadata": {
    "execution": {
     "iopub.execute_input": "2023-01-08T08:26:34.541812Z",
     "iopub.status.busy": "2023-01-08T08:26:34.541463Z",
     "iopub.status.idle": "2023-01-08T08:26:34.548613Z",
     "shell.execute_reply": "2023-01-08T08:26:34.547695Z"
    },
    "papermill": {
     "duration": 1.382765,
     "end_time": "2023-01-08T08:26:34.550585",
     "exception": false,
     "start_time": "2023-01-08T08:26:33.167820",
     "status": "completed"
    },
    "tags": []
   },
   "outputs": [
    {
     "data": {
      "text/plain": [
       "[101, 2026, 2171, 2003, 4532, 1998, 1045, 2444, 1999, 2414, 102]"
      ]
     },
     "execution_count": 31,
     "metadata": {},
     "output_type": "execute_result"
    }
   ],
   "source": [
    "sentence = \"My name is Sarah and I live in London\"\n",
    "tokenized = config.tokenizer.encode(sentence)\n",
    "tokenized"
   ]
  },
  {
   "cell_type": "code",
   "execution_count": 32,
   "id": "5176b30e",
   "metadata": {
    "execution": {
     "iopub.execute_input": "2023-01-08T08:26:37.439865Z",
     "iopub.status.busy": "2023-01-08T08:26:37.439510Z",
     "iopub.status.idle": "2023-01-08T08:26:37.444470Z",
     "shell.execute_reply": "2023-01-08T08:26:37.443541Z"
    },
    "papermill": {
     "duration": 1.468113,
     "end_time": "2023-01-08T08:26:37.446504",
     "exception": false,
     "start_time": "2023-01-08T08:26:35.978391",
     "status": "completed"
    },
    "tags": []
   },
   "outputs": [],
   "source": [
    "eval_dataset = NERDataset(\n",
    "    sentences=[sentence.split()],\n",
    "    pos = [[0] * len(sentence.split())],\n",
    "    tags = [[0] * len(sentence.split())]\n",
    ")"
   ]
  },
  {
   "cell_type": "code",
   "execution_count": 33,
   "id": "4b1c48b2",
   "metadata": {
    "execution": {
     "iopub.execute_input": "2023-01-08T08:26:41.071719Z",
     "iopub.status.busy": "2023-01-08T08:26:41.071365Z",
     "iopub.status.idle": "2023-01-08T08:26:41.089159Z",
     "shell.execute_reply": "2023-01-08T08:26:41.088238Z"
    },
    "papermill": {
     "duration": 2.152997,
     "end_time": "2023-01-08T08:26:41.091240",
     "exception": false,
     "start_time": "2023-01-08T08:26:38.938243",
     "status": "completed"
    },
    "tags": []
   },
   "outputs": [
    {
     "data": {
      "text/plain": [
       "{'input_ids': tensor([[ 101, 2026, 2171, 2003, 4532, 1998, 1045, 2444, 1999, 2414,  102,    0,\n",
       "             0,    0,    0,    0,    0,    0,    0,    0,    0,    0,    0,    0,\n",
       "             0,    0,    0,    0,    0,    0,    0,    0,    0,    0,    0,    0,\n",
       "             0,    0,    0,    0,    0,    0,    0,    0,    0,    0,    0,    0,\n",
       "             0,    0,    0,    0,    0,    0,    0,    0,    0,    0,    0,    0,\n",
       "             0,    0,    0,    0,    0,    0,    0,    0,    0,    0,    0,    0,\n",
       "             0,    0,    0,    0,    0,    0,    0,    0,    0,    0,    0,    0,\n",
       "             0,    0,    0,    0,    0,    0,    0,    0,    0,    0,    0,    0,\n",
       "             0,    0,    0,    0,    0,    0,    0,    0,    0,    0,    0,    0,\n",
       "             0,    0,    0,    0,    0,    0,    0,    0,    0,    0,    0,    0,\n",
       "             0,    0,    0,    0,    0,    0,    0,    0]], device='cuda:0'),\n",
       " 'attention_mask': tensor([[1, 1, 1, 1, 1, 1, 1, 1, 1, 1, 1, 0, 0, 0, 0, 0, 0, 0, 0, 0, 0, 0, 0, 0,\n",
       "          0, 0, 0, 0, 0, 0, 0, 0, 0, 0, 0, 0, 0, 0, 0, 0, 0, 0, 0, 0, 0, 0, 0, 0,\n",
       "          0, 0, 0, 0, 0, 0, 0, 0, 0, 0, 0, 0, 0, 0, 0, 0, 0, 0, 0, 0, 0, 0, 0, 0,\n",
       "          0, 0, 0, 0, 0, 0, 0, 0, 0, 0, 0, 0, 0, 0, 0, 0, 0, 0, 0, 0, 0, 0, 0, 0,\n",
       "          0, 0, 0, 0, 0, 0, 0, 0, 0, 0, 0, 0, 0, 0, 0, 0, 0, 0, 0, 0, 0, 0, 0, 0,\n",
       "          0, 0, 0, 0, 0, 0, 0, 0]], device='cuda:0'),\n",
       " 'token_type_ids': tensor([[0, 0, 0, 0, 0, 0, 0, 0, 0, 0, 0, 0, 0, 0, 0, 0, 0, 0, 0, 0, 0, 0, 0, 0,\n",
       "          0, 0, 0, 0, 0, 0, 0, 0, 0, 0, 0, 0, 0, 0, 0, 0, 0, 0, 0, 0, 0, 0, 0, 0,\n",
       "          0, 0, 0, 0, 0, 0, 0, 0, 0, 0, 0, 0, 0, 0, 0, 0, 0, 0, 0, 0, 0, 0, 0, 0,\n",
       "          0, 0, 0, 0, 0, 0, 0, 0, 0, 0, 0, 0, 0, 0, 0, 0, 0, 0, 0, 0, 0, 0, 0, 0,\n",
       "          0, 0, 0, 0, 0, 0, 0, 0, 0, 0, 0, 0, 0, 0, 0, 0, 0, 0, 0, 0, 0, 0, 0, 0,\n",
       "          0, 0, 0, 0, 0, 0, 0, 0]], device='cuda:0'),\n",
       " 'target_pos': tensor([[0, 0, 0, 0, 0, 0, 0, 0, 0, 0, 0, 0, 0, 0, 0, 0, 0, 0, 0, 0, 0, 0, 0, 0,\n",
       "          0, 0, 0, 0, 0, 0, 0, 0, 0, 0, 0, 0, 0, 0, 0, 0, 0, 0, 0, 0, 0, 0, 0, 0,\n",
       "          0, 0, 0, 0, 0, 0, 0, 0, 0, 0, 0, 0, 0, 0, 0, 0, 0, 0, 0, 0, 0, 0, 0, 0,\n",
       "          0, 0, 0, 0, 0, 0, 0, 0, 0, 0, 0, 0, 0, 0, 0, 0, 0, 0, 0, 0, 0, 0, 0, 0,\n",
       "          0, 0, 0, 0, 0, 0, 0, 0, 0, 0, 0, 0, 0, 0, 0, 0, 0, 0, 0, 0, 0, 0, 0, 0,\n",
       "          0, 0, 0, 0, 0, 0, 0, 0]], device='cuda:0'),\n",
       " 'target_tag': tensor([[0, 0, 0, 0, 0, 0, 0, 0, 0, 0, 0, 0, 0, 0, 0, 0, 0, 0, 0, 0, 0, 0, 0, 0,\n",
       "          0, 0, 0, 0, 0, 0, 0, 0, 0, 0, 0, 0, 0, 0, 0, 0, 0, 0, 0, 0, 0, 0, 0, 0,\n",
       "          0, 0, 0, 0, 0, 0, 0, 0, 0, 0, 0, 0, 0, 0, 0, 0, 0, 0, 0, 0, 0, 0, 0, 0,\n",
       "          0, 0, 0, 0, 0, 0, 0, 0, 0, 0, 0, 0, 0, 0, 0, 0, 0, 0, 0, 0, 0, 0, 0, 0,\n",
       "          0, 0, 0, 0, 0, 0, 0, 0, 0, 0, 0, 0, 0, 0, 0, 0, 0, 0, 0, 0, 0, 0, 0, 0,\n",
       "          0, 0, 0, 0, 0, 0, 0, 0]], device='cuda:0')}"
      ]
     },
     "execution_count": 33,
     "metadata": {},
     "output_type": "execute_result"
    }
   ],
   "source": [
    "batch = eval_dataset[0]\n",
    "\n",
    "for k, v in batch.items():\n",
    "    batch[k] = v.to(config.device).unsqueeze(0)\n",
    "\n",
    "batch"
   ]
  },
  {
   "cell_type": "code",
   "execution_count": 34,
   "id": "7fd57b52",
   "metadata": {
    "execution": {
     "iopub.execute_input": "2023-01-08T08:26:44.133724Z",
     "iopub.status.busy": "2023-01-08T08:26:44.133373Z",
     "iopub.status.idle": "2023-01-08T08:26:44.159481Z",
     "shell.execute_reply": "2023-01-08T08:26:44.158520Z"
    },
    "papermill": {
     "duration": 1.504424,
     "end_time": "2023-01-08T08:26:44.161457",
     "exception": false,
     "start_time": "2023-01-08T08:26:42.657033",
     "status": "completed"
    },
    "tags": []
   },
   "outputs": [
    {
     "data": {
      "text/plain": [
       "(torch.Size([1, 128, 42]), torch.Size([1, 128, 17]))"
      ]
     },
     "execution_count": 34,
     "metadata": {},
     "output_type": "execute_result"
    }
   ],
   "source": [
    "pos_out, tag_out = model(**batch)\n",
    "pos_out.shape, tag_out.shape"
   ]
  },
  {
   "cell_type": "code",
   "execution_count": 35,
   "id": "9622f99d",
   "metadata": {
    "execution": {
     "iopub.execute_input": "2023-01-08T08:26:46.987744Z",
     "iopub.status.busy": "2023-01-08T08:26:46.987378Z",
     "iopub.status.idle": "2023-01-08T08:26:46.995814Z",
     "shell.execute_reply": "2023-01-08T08:26:46.994980Z"
    },
    "papermill": {
     "duration": 1.390731,
     "end_time": "2023-01-08T08:26:46.997841",
     "exception": false,
     "start_time": "2023-01-08T08:26:45.607110",
     "status": "completed"
    },
    "tags": []
   },
   "outputs": [],
   "source": [
    "pos_enc = T.argmax(pos_out, dim=2).cpu().numpy().reshape(-1)\n",
    "tag_enc = T.argmax(tag_out, dim=2).cpu().numpy().reshape(-1)"
   ]
  },
  {
   "cell_type": "code",
   "execution_count": 36,
   "id": "476bd188",
   "metadata": {
    "execution": {
     "iopub.execute_input": "2023-01-08T08:26:49.927327Z",
     "iopub.status.busy": "2023-01-08T08:26:49.926898Z",
     "iopub.status.idle": "2023-01-08T08:26:49.934984Z",
     "shell.execute_reply": "2023-01-08T08:26:49.934017Z"
    },
    "papermill": {
     "duration": 1.488252,
     "end_time": "2023-01-08T08:26:49.937243",
     "exception": false,
     "start_time": "2023-01-08T08:26:48.448991",
     "status": "completed"
    },
    "tags": []
   },
   "outputs": [
    {
     "data": {
      "text/plain": [
       "array(['NNP', 'NNP', 'NNP', 'NNP', 'NNP', 'NNP', 'NNP', 'NNP', 'NNP'],\n",
       "      dtype=object)"
      ]
     },
     "execution_count": 36,
     "metadata": {},
     "output_type": "execute_result"
    }
   ],
   "source": [
    "pos_encoder.inverse_transform(pos_enc)[:len(sentence.split())]"
   ]
  },
  {
   "cell_type": "code",
   "execution_count": 37,
   "id": "5a316cb2",
   "metadata": {
    "execution": {
     "iopub.execute_input": "2023-01-08T08:26:52.980188Z",
     "iopub.status.busy": "2023-01-08T08:26:52.979812Z",
     "iopub.status.idle": "2023-01-08T08:26:52.987862Z",
     "shell.execute_reply": "2023-01-08T08:26:52.987007Z"
    },
    "papermill": {
     "duration": 1.394502,
     "end_time": "2023-01-08T08:26:52.989858",
     "exception": false,
     "start_time": "2023-01-08T08:26:51.595356",
     "status": "completed"
    },
    "tags": []
   },
   "outputs": [
    {
     "data": {
      "text/plain": [
       "array(['O', 'O', 'O', 'O', 'O', 'O', 'O', 'O', 'O'], dtype=object)"
      ]
     },
     "execution_count": 37,
     "metadata": {},
     "output_type": "execute_result"
    }
   ],
   "source": [
    "tag_encoder.inverse_transform(tag_enc)[:len(sentence.split())]"
   ]
  }
 ],
 "metadata": {
  "kernelspec": {
   "display_name": "Python 3",
   "language": "python",
   "name": "python3"
  },
  "language_info": {
   "codemirror_mode": {
    "name": "ipython",
    "version": 3
   },
   "file_extension": ".py",
   "mimetype": "text/x-python",
   "name": "python",
   "nbconvert_exporter": "python",
   "pygments_lexer": "ipython3",
   "version": "3.7.12"
  },
  "papermill": {
   "default_parameters": {},
   "duration": 11585.898187,
   "end_time": "2023-01-08T08:26:56.908008",
   "environment_variables": {},
   "exception": null,
   "input_path": "__notebook__.ipynb",
   "output_path": "__notebook__.ipynb",
   "parameters": {},
   "start_time": "2023-01-08T05:13:51.009821",
   "version": "2.3.4"
  },
  "widgets": {
   "application/vnd.jupyter.widget-state+json": {
    "state": {
     "034ad59b04a244f0935135696d601366": {
      "model_module": "@jupyter-widgets/controls",
      "model_module_version": "1.5.0",
      "model_name": "HTMLModel",
      "state": {
       "_dom_classes": [],
       "_model_module": "@jupyter-widgets/controls",
       "_model_module_version": "1.5.0",
       "_model_name": "HTMLModel",
       "_view_count": null,
       "_view_module": "@jupyter-widgets/controls",
       "_view_module_version": "1.5.0",
       "_view_name": "HTMLView",
       "description": "",
       "description_tooltip": null,
       "layout": "IPY_MODEL_67794af7f40e4364a955b04c243fd5fd",
       "placeholder": "​",
       "style": "IPY_MODEL_e39216c614dc43aeaf641584056dee85",
       "value": "Downloading: 100%"
      }
     },
     "1f1362b2924d49ffa4b67a289f5ccc1e": {
      "model_module": "@jupyter-widgets/base",
      "model_module_version": "1.2.0",
      "model_name": "LayoutModel",
      "state": {
       "_model_module": "@jupyter-widgets/base",
       "_model_module_version": "1.2.0",
       "_model_name": "LayoutModel",
       "_view_count": null,
       "_view_module": "@jupyter-widgets/base",
       "_view_module_version": "1.2.0",
       "_view_name": "LayoutView",
       "align_content": null,
       "align_items": null,
       "align_self": null,
       "border": null,
       "bottom": null,
       "display": null,
       "flex": null,
       "flex_flow": null,
       "grid_area": null,
       "grid_auto_columns": null,
       "grid_auto_flow": null,
       "grid_auto_rows": null,
       "grid_column": null,
       "grid_gap": null,
       "grid_row": null,
       "grid_template_areas": null,
       "grid_template_columns": null,
       "grid_template_rows": null,
       "height": null,
       "justify_content": null,
       "justify_items": null,
       "left": null,
       "margin": null,
       "max_height": null,
       "max_width": null,
       "min_height": null,
       "min_width": null,
       "object_fit": null,
       "object_position": null,
       "order": null,
       "overflow": null,
       "overflow_x": null,
       "overflow_y": null,
       "padding": null,
       "right": null,
       "top": null,
       "visibility": null,
       "width": null
      }
     },
     "2473853c8b544a2e9dd520d3b6639a13": {
      "model_module": "@jupyter-widgets/controls",
      "model_module_version": "1.5.0",
      "model_name": "DescriptionStyleModel",
      "state": {
       "_model_module": "@jupyter-widgets/controls",
       "_model_module_version": "1.5.0",
       "_model_name": "DescriptionStyleModel",
       "_view_count": null,
       "_view_module": "@jupyter-widgets/base",
       "_view_module_version": "1.2.0",
       "_view_name": "StyleView",
       "description_width": ""
      }
     },
     "28926d26d0dd46fea17294ddd205040d": {
      "model_module": "@jupyter-widgets/base",
      "model_module_version": "1.2.0",
      "model_name": "LayoutModel",
      "state": {
       "_model_module": "@jupyter-widgets/base",
       "_model_module_version": "1.2.0",
       "_model_name": "LayoutModel",
       "_view_count": null,
       "_view_module": "@jupyter-widgets/base",
       "_view_module_version": "1.2.0",
       "_view_name": "LayoutView",
       "align_content": null,
       "align_items": null,
       "align_self": null,
       "border": null,
       "bottom": null,
       "display": null,
       "flex": null,
       "flex_flow": null,
       "grid_area": null,
       "grid_auto_columns": null,
       "grid_auto_flow": null,
       "grid_auto_rows": null,
       "grid_column": null,
       "grid_gap": null,
       "grid_row": null,
       "grid_template_areas": null,
       "grid_template_columns": null,
       "grid_template_rows": null,
       "height": null,
       "justify_content": null,
       "justify_items": null,
       "left": null,
       "margin": null,
       "max_height": null,
       "max_width": null,
       "min_height": null,
       "min_width": null,
       "object_fit": null,
       "object_position": null,
       "order": null,
       "overflow": null,
       "overflow_x": null,
       "overflow_y": null,
       "padding": null,
       "right": null,
       "top": null,
       "visibility": null,
       "width": null
      }
     },
     "2ba8ed6a025040d38e2633ec03333023": {
      "model_module": "@jupyter-widgets/controls",
      "model_module_version": "1.5.0",
      "model_name": "FloatProgressModel",
      "state": {
       "_dom_classes": [],
       "_model_module": "@jupyter-widgets/controls",
       "_model_module_version": "1.5.0",
       "_model_name": "FloatProgressModel",
       "_view_count": null,
       "_view_module": "@jupyter-widgets/controls",
       "_view_module_version": "1.5.0",
       "_view_name": "ProgressView",
       "bar_style": "success",
       "description": "",
       "description_tooltip": null,
       "layout": "IPY_MODEL_7dfa2963f087451e91858796ffcfbbe7",
       "max": 231508.0,
       "min": 0.0,
       "orientation": "horizontal",
       "style": "IPY_MODEL_e3c9b3bf7bdf4a72854cbab97f666db3",
       "value": 231508.0
      }
     },
     "2f19f8e07a9140bbb872ac8109e0ad56": {
      "model_module": "@jupyter-widgets/controls",
      "model_module_version": "1.5.0",
      "model_name": "DescriptionStyleModel",
      "state": {
       "_model_module": "@jupyter-widgets/controls",
       "_model_module_version": "1.5.0",
       "_model_name": "DescriptionStyleModel",
       "_view_count": null,
       "_view_module": "@jupyter-widgets/base",
       "_view_module_version": "1.2.0",
       "_view_name": "StyleView",
       "description_width": ""
      }
     },
     "3243b471c77d43749430ad07592c90da": {
      "model_module": "@jupyter-widgets/controls",
      "model_module_version": "1.5.0",
      "model_name": "HTMLModel",
      "state": {
       "_dom_classes": [],
       "_model_module": "@jupyter-widgets/controls",
       "_model_module_version": "1.5.0",
       "_model_name": "HTMLModel",
       "_view_count": null,
       "_view_module": "@jupyter-widgets/controls",
       "_view_module_version": "1.5.0",
       "_view_name": "HTMLView",
       "description": "",
       "description_tooltip": null,
       "layout": "IPY_MODEL_8004dbb1ec544de0ad8c6212516d0592",
       "placeholder": "​",
       "style": "IPY_MODEL_77f5e1d499a24a58a35fae91ede13486",
       "value": " 226k/226k [00:00&lt;00:00, 959kB/s]"
      }
     },
     "38323a4add1b4b80b4024cad3372401d": {
      "model_module": "@jupyter-widgets/controls",
      "model_module_version": "1.5.0",
      "model_name": "HTMLModel",
      "state": {
       "_dom_classes": [],
       "_model_module": "@jupyter-widgets/controls",
       "_model_module_version": "1.5.0",
       "_model_name": "HTMLModel",
       "_view_count": null,
       "_view_module": "@jupyter-widgets/controls",
       "_view_module_version": "1.5.0",
       "_view_name": "HTMLView",
       "description": "",
       "description_tooltip": null,
       "layout": "IPY_MODEL_a2122bc6ca02428abdb6fb904680d47f",
       "placeholder": "​",
       "style": "IPY_MODEL_47c141c56f1a4b87a741db1c343fc404",
       "value": " 570/570 [00:00&lt;00:00, 22.9kB/s]"
      }
     },
     "45b8c6609eef45128000f13f2613b8e0": {
      "model_module": "@jupyter-widgets/base",
      "model_module_version": "1.2.0",
      "model_name": "LayoutModel",
      "state": {
       "_model_module": "@jupyter-widgets/base",
       "_model_module_version": "1.2.0",
       "_model_name": "LayoutModel",
       "_view_count": null,
       "_view_module": "@jupyter-widgets/base",
       "_view_module_version": "1.2.0",
       "_view_name": "LayoutView",
       "align_content": null,
       "align_items": null,
       "align_self": null,
       "border": null,
       "bottom": null,
       "display": null,
       "flex": null,
       "flex_flow": null,
       "grid_area": null,
       "grid_auto_columns": null,
       "grid_auto_flow": null,
       "grid_auto_rows": null,
       "grid_column": null,
       "grid_gap": null,
       "grid_row": null,
       "grid_template_areas": null,
       "grid_template_columns": null,
       "grid_template_rows": null,
       "height": null,
       "justify_content": null,
       "justify_items": null,
       "left": null,
       "margin": null,
       "max_height": null,
       "max_width": null,
       "min_height": null,
       "min_width": null,
       "object_fit": null,
       "object_position": null,
       "order": null,
       "overflow": null,
       "overflow_x": null,
       "overflow_y": null,
       "padding": null,
       "right": null,
       "top": null,
       "visibility": null,
       "width": null
      }
     },
     "47c141c56f1a4b87a741db1c343fc404": {
      "model_module": "@jupyter-widgets/controls",
      "model_module_version": "1.5.0",
      "model_name": "DescriptionStyleModel",
      "state": {
       "_model_module": "@jupyter-widgets/controls",
       "_model_module_version": "1.5.0",
       "_model_name": "DescriptionStyleModel",
       "_view_count": null,
       "_view_module": "@jupyter-widgets/base",
       "_view_module_version": "1.2.0",
       "_view_name": "StyleView",
       "description_width": ""
      }
     },
     "480dda025c444484abd8b625f70d282d": {
      "model_module": "@jupyter-widgets/controls",
      "model_module_version": "1.5.0",
      "model_name": "HTMLModel",
      "state": {
       "_dom_classes": [],
       "_model_module": "@jupyter-widgets/controls",
       "_model_module_version": "1.5.0",
       "_model_name": "HTMLModel",
       "_view_count": null,
       "_view_module": "@jupyter-widgets/controls",
       "_view_module_version": "1.5.0",
       "_view_name": "HTMLView",
       "description": "",
       "description_tooltip": null,
       "layout": "IPY_MODEL_f6db1da0eff643c48dd90c91c4c5d3b5",
       "placeholder": "​",
       "style": "IPY_MODEL_2473853c8b544a2e9dd520d3b6639a13",
       "value": " 420M/420M [00:22&lt;00:00, 23.3MB/s]"
      }
     },
     "5c310f97bf8b4c70aa3d519b5ad97d06": {
      "model_module": "@jupyter-widgets/controls",
      "model_module_version": "1.5.0",
      "model_name": "DescriptionStyleModel",
      "state": {
       "_model_module": "@jupyter-widgets/controls",
       "_model_module_version": "1.5.0",
       "_model_name": "DescriptionStyleModel",
       "_view_count": null,
       "_view_module": "@jupyter-widgets/base",
       "_view_module_version": "1.2.0",
       "_view_name": "StyleView",
       "description_width": ""
      }
     },
     "5c45083588f84c169d4af590cba1b28e": {
      "model_module": "@jupyter-widgets/base",
      "model_module_version": "1.2.0",
      "model_name": "LayoutModel",
      "state": {
       "_model_module": "@jupyter-widgets/base",
       "_model_module_version": "1.2.0",
       "_model_name": "LayoutModel",
       "_view_count": null,
       "_view_module": "@jupyter-widgets/base",
       "_view_module_version": "1.2.0",
       "_view_name": "LayoutView",
       "align_content": null,
       "align_items": null,
       "align_self": null,
       "border": null,
       "bottom": null,
       "display": null,
       "flex": null,
       "flex_flow": null,
       "grid_area": null,
       "grid_auto_columns": null,
       "grid_auto_flow": null,
       "grid_auto_rows": null,
       "grid_column": null,
       "grid_gap": null,
       "grid_row": null,
       "grid_template_areas": null,
       "grid_template_columns": null,
       "grid_template_rows": null,
       "height": null,
       "justify_content": null,
       "justify_items": null,
       "left": null,
       "margin": null,
       "max_height": null,
       "max_width": null,
       "min_height": null,
       "min_width": null,
       "object_fit": null,
       "object_position": null,
       "order": null,
       "overflow": null,
       "overflow_x": null,
       "overflow_y": null,
       "padding": null,
       "right": null,
       "top": null,
       "visibility": null,
       "width": null
      }
     },
     "60cac86d92dd406f9965af3c8e917388": {
      "model_module": "@jupyter-widgets/base",
      "model_module_version": "1.2.0",
      "model_name": "LayoutModel",
      "state": {
       "_model_module": "@jupyter-widgets/base",
       "_model_module_version": "1.2.0",
       "_model_name": "LayoutModel",
       "_view_count": null,
       "_view_module": "@jupyter-widgets/base",
       "_view_module_version": "1.2.0",
       "_view_name": "LayoutView",
       "align_content": null,
       "align_items": null,
       "align_self": null,
       "border": null,
       "bottom": null,
       "display": null,
       "flex": null,
       "flex_flow": null,
       "grid_area": null,
       "grid_auto_columns": null,
       "grid_auto_flow": null,
       "grid_auto_rows": null,
       "grid_column": null,
       "grid_gap": null,
       "grid_row": null,
       "grid_template_areas": null,
       "grid_template_columns": null,
       "grid_template_rows": null,
       "height": null,
       "justify_content": null,
       "justify_items": null,
       "left": null,
       "margin": null,
       "max_height": null,
       "max_width": null,
       "min_height": null,
       "min_width": null,
       "object_fit": null,
       "object_position": null,
       "order": null,
       "overflow": null,
       "overflow_x": null,
       "overflow_y": null,
       "padding": null,
       "right": null,
       "top": null,
       "visibility": null,
       "width": null
      }
     },
     "60cba800493241848bd1e81286898372": {
      "model_module": "@jupyter-widgets/controls",
      "model_module_version": "1.5.0",
      "model_name": "ProgressStyleModel",
      "state": {
       "_model_module": "@jupyter-widgets/controls",
       "_model_module_version": "1.5.0",
       "_model_name": "ProgressStyleModel",
       "_view_count": null,
       "_view_module": "@jupyter-widgets/base",
       "_view_module_version": "1.2.0",
       "_view_name": "StyleView",
       "bar_color": null,
       "description_width": ""
      }
     },
     "6266d78408c34e36bcb88cdcb5a8cbcb": {
      "model_module": "@jupyter-widgets/base",
      "model_module_version": "1.2.0",
      "model_name": "LayoutModel",
      "state": {
       "_model_module": "@jupyter-widgets/base",
       "_model_module_version": "1.2.0",
       "_model_name": "LayoutModel",
       "_view_count": null,
       "_view_module": "@jupyter-widgets/base",
       "_view_module_version": "1.2.0",
       "_view_name": "LayoutView",
       "align_content": null,
       "align_items": null,
       "align_self": null,
       "border": null,
       "bottom": null,
       "display": null,
       "flex": null,
       "flex_flow": null,
       "grid_area": null,
       "grid_auto_columns": null,
       "grid_auto_flow": null,
       "grid_auto_rows": null,
       "grid_column": null,
       "grid_gap": null,
       "grid_row": null,
       "grid_template_areas": null,
       "grid_template_columns": null,
       "grid_template_rows": null,
       "height": null,
       "justify_content": null,
       "justify_items": null,
       "left": null,
       "margin": null,
       "max_height": null,
       "max_width": null,
       "min_height": null,
       "min_width": null,
       "object_fit": null,
       "object_position": null,
       "order": null,
       "overflow": null,
       "overflow_x": null,
       "overflow_y": null,
       "padding": null,
       "right": null,
       "top": null,
       "visibility": null,
       "width": null
      }
     },
     "67794af7f40e4364a955b04c243fd5fd": {
      "model_module": "@jupyter-widgets/base",
      "model_module_version": "1.2.0",
      "model_name": "LayoutModel",
      "state": {
       "_model_module": "@jupyter-widgets/base",
       "_model_module_version": "1.2.0",
       "_model_name": "LayoutModel",
       "_view_count": null,
       "_view_module": "@jupyter-widgets/base",
       "_view_module_version": "1.2.0",
       "_view_name": "LayoutView",
       "align_content": null,
       "align_items": null,
       "align_self": null,
       "border": null,
       "bottom": null,
       "display": null,
       "flex": null,
       "flex_flow": null,
       "grid_area": null,
       "grid_auto_columns": null,
       "grid_auto_flow": null,
       "grid_auto_rows": null,
       "grid_column": null,
       "grid_gap": null,
       "grid_row": null,
       "grid_template_areas": null,
       "grid_template_columns": null,
       "grid_template_rows": null,
       "height": null,
       "justify_content": null,
       "justify_items": null,
       "left": null,
       "margin": null,
       "max_height": null,
       "max_width": null,
       "min_height": null,
       "min_width": null,
       "object_fit": null,
       "object_position": null,
       "order": null,
       "overflow": null,
       "overflow_x": null,
       "overflow_y": null,
       "padding": null,
       "right": null,
       "top": null,
       "visibility": null,
       "width": null
      }
     },
     "6984d7ab04e346969e32637ebec4b44e": {
      "model_module": "@jupyter-widgets/controls",
      "model_module_version": "1.5.0",
      "model_name": "HBoxModel",
      "state": {
       "_dom_classes": [],
       "_model_module": "@jupyter-widgets/controls",
       "_model_module_version": "1.5.0",
       "_model_name": "HBoxModel",
       "_view_count": null,
       "_view_module": "@jupyter-widgets/controls",
       "_view_module_version": "1.5.0",
       "_view_name": "HBoxView",
       "box_style": "",
       "children": [
        "IPY_MODEL_8c12e78dacc347b2afd24329184505cd",
        "IPY_MODEL_8ac5a249aefa42cc907ea6f7951a62b6",
        "IPY_MODEL_c34bea92072e4673bc6aa1d33d2ed2ed"
       ],
       "layout": "IPY_MODEL_60cac86d92dd406f9965af3c8e917388"
      }
     },
     "7077fe4fb18e4ec09f1ec3233b346106": {
      "model_module": "@jupyter-widgets/controls",
      "model_module_version": "1.5.0",
      "model_name": "ProgressStyleModel",
      "state": {
       "_model_module": "@jupyter-widgets/controls",
       "_model_module_version": "1.5.0",
       "_model_name": "ProgressStyleModel",
       "_view_count": null,
       "_view_module": "@jupyter-widgets/base",
       "_view_module_version": "1.2.0",
       "_view_name": "StyleView",
       "bar_color": null,
       "description_width": ""
      }
     },
     "728d6169408e4c698b6e9e13041540de": {
      "model_module": "@jupyter-widgets/controls",
      "model_module_version": "1.5.0",
      "model_name": "FloatProgressModel",
      "state": {
       "_dom_classes": [],
       "_model_module": "@jupyter-widgets/controls",
       "_model_module_version": "1.5.0",
       "_model_name": "FloatProgressModel",
       "_view_count": null,
       "_view_module": "@jupyter-widgets/controls",
       "_view_module_version": "1.5.0",
       "_view_name": "ProgressView",
       "bar_style": "success",
       "description": "",
       "description_tooltip": null,
       "layout": "IPY_MODEL_e53cac65ea924b0abcf36db66c13d7fb",
       "max": 440473133.0,
       "min": 0.0,
       "orientation": "horizontal",
       "style": "IPY_MODEL_7077fe4fb18e4ec09f1ec3233b346106",
       "value": 440473133.0
      }
     },
     "77f5e1d499a24a58a35fae91ede13486": {
      "model_module": "@jupyter-widgets/controls",
      "model_module_version": "1.5.0",
      "model_name": "DescriptionStyleModel",
      "state": {
       "_model_module": "@jupyter-widgets/controls",
       "_model_module_version": "1.5.0",
       "_model_name": "DescriptionStyleModel",
       "_view_count": null,
       "_view_module": "@jupyter-widgets/base",
       "_view_module_version": "1.2.0",
       "_view_name": "StyleView",
       "description_width": ""
      }
     },
     "7d4c4e3af0174a12b93fe46bfa5de5a6": {
      "model_module": "@jupyter-widgets/controls",
      "model_module_version": "1.5.0",
      "model_name": "DescriptionStyleModel",
      "state": {
       "_model_module": "@jupyter-widgets/controls",
       "_model_module_version": "1.5.0",
       "_model_name": "DescriptionStyleModel",
       "_view_count": null,
       "_view_module": "@jupyter-widgets/base",
       "_view_module_version": "1.2.0",
       "_view_name": "StyleView",
       "description_width": ""
      }
     },
     "7dfa2963f087451e91858796ffcfbbe7": {
      "model_module": "@jupyter-widgets/base",
      "model_module_version": "1.2.0",
      "model_name": "LayoutModel",
      "state": {
       "_model_module": "@jupyter-widgets/base",
       "_model_module_version": "1.2.0",
       "_model_name": "LayoutModel",
       "_view_count": null,
       "_view_module": "@jupyter-widgets/base",
       "_view_module_version": "1.2.0",
       "_view_name": "LayoutView",
       "align_content": null,
       "align_items": null,
       "align_self": null,
       "border": null,
       "bottom": null,
       "display": null,
       "flex": null,
       "flex_flow": null,
       "grid_area": null,
       "grid_auto_columns": null,
       "grid_auto_flow": null,
       "grid_auto_rows": null,
       "grid_column": null,
       "grid_gap": null,
       "grid_row": null,
       "grid_template_areas": null,
       "grid_template_columns": null,
       "grid_template_rows": null,
       "height": null,
       "justify_content": null,
       "justify_items": null,
       "left": null,
       "margin": null,
       "max_height": null,
       "max_width": null,
       "min_height": null,
       "min_width": null,
       "object_fit": null,
       "object_position": null,
       "order": null,
       "overflow": null,
       "overflow_x": null,
       "overflow_y": null,
       "padding": null,
       "right": null,
       "top": null,
       "visibility": null,
       "width": null
      }
     },
     "8004dbb1ec544de0ad8c6212516d0592": {
      "model_module": "@jupyter-widgets/base",
      "model_module_version": "1.2.0",
      "model_name": "LayoutModel",
      "state": {
       "_model_module": "@jupyter-widgets/base",
       "_model_module_version": "1.2.0",
       "_model_name": "LayoutModel",
       "_view_count": null,
       "_view_module": "@jupyter-widgets/base",
       "_view_module_version": "1.2.0",
       "_view_name": "LayoutView",
       "align_content": null,
       "align_items": null,
       "align_self": null,
       "border": null,
       "bottom": null,
       "display": null,
       "flex": null,
       "flex_flow": null,
       "grid_area": null,
       "grid_auto_columns": null,
       "grid_auto_flow": null,
       "grid_auto_rows": null,
       "grid_column": null,
       "grid_gap": null,
       "grid_row": null,
       "grid_template_areas": null,
       "grid_template_columns": null,
       "grid_template_rows": null,
       "height": null,
       "justify_content": null,
       "justify_items": null,
       "left": null,
       "margin": null,
       "max_height": null,
       "max_width": null,
       "min_height": null,
       "min_width": null,
       "object_fit": null,
       "object_position": null,
       "order": null,
       "overflow": null,
       "overflow_x": null,
       "overflow_y": null,
       "padding": null,
       "right": null,
       "top": null,
       "visibility": null,
       "width": null
      }
     },
     "817701c9e41e4c5f84fb3f4add3829d0": {
      "model_module": "@jupyter-widgets/base",
      "model_module_version": "1.2.0",
      "model_name": "LayoutModel",
      "state": {
       "_model_module": "@jupyter-widgets/base",
       "_model_module_version": "1.2.0",
       "_model_name": "LayoutModel",
       "_view_count": null,
       "_view_module": "@jupyter-widgets/base",
       "_view_module_version": "1.2.0",
       "_view_name": "LayoutView",
       "align_content": null,
       "align_items": null,
       "align_self": null,
       "border": null,
       "bottom": null,
       "display": null,
       "flex": null,
       "flex_flow": null,
       "grid_area": null,
       "grid_auto_columns": null,
       "grid_auto_flow": null,
       "grid_auto_rows": null,
       "grid_column": null,
       "grid_gap": null,
       "grid_row": null,
       "grid_template_areas": null,
       "grid_template_columns": null,
       "grid_template_rows": null,
       "height": null,
       "justify_content": null,
       "justify_items": null,
       "left": null,
       "margin": null,
       "max_height": null,
       "max_width": null,
       "min_height": null,
       "min_width": null,
       "object_fit": null,
       "object_position": null,
       "order": null,
       "overflow": null,
       "overflow_x": null,
       "overflow_y": null,
       "padding": null,
       "right": null,
       "top": null,
       "visibility": null,
       "width": null
      }
     },
     "8416518bca9445fe95befd13c2fe4686": {
      "model_module": "@jupyter-widgets/controls",
      "model_module_version": "1.5.0",
      "model_name": "HBoxModel",
      "state": {
       "_dom_classes": [],
       "_model_module": "@jupyter-widgets/controls",
       "_model_module_version": "1.5.0",
       "_model_name": "HBoxModel",
       "_view_count": null,
       "_view_module": "@jupyter-widgets/controls",
       "_view_module_version": "1.5.0",
       "_view_name": "HBoxView",
       "box_style": "",
       "children": [
        "IPY_MODEL_034ad59b04a244f0935135696d601366",
        "IPY_MODEL_87699f038c234cdaa7738b3e1933bad8",
        "IPY_MODEL_38323a4add1b4b80b4024cad3372401d"
       ],
       "layout": "IPY_MODEL_8febe4a9cdaf4e4ea0086ce44fd6e8b0"
      }
     },
     "85bd124afca8433280526a40bb50c121": {
      "model_module": "@jupyter-widgets/controls",
      "model_module_version": "1.5.0",
      "model_name": "HTMLModel",
      "state": {
       "_dom_classes": [],
       "_model_module": "@jupyter-widgets/controls",
       "_model_module_version": "1.5.0",
       "_model_name": "HTMLModel",
       "_view_count": null,
       "_view_module": "@jupyter-widgets/controls",
       "_view_module_version": "1.5.0",
       "_view_name": "HTMLView",
       "description": "",
       "description_tooltip": null,
       "layout": "IPY_MODEL_28926d26d0dd46fea17294ddd205040d",
       "placeholder": "​",
       "style": "IPY_MODEL_2f19f8e07a9140bbb872ac8109e0ad56",
       "value": "Downloading: 100%"
      }
     },
     "87699f038c234cdaa7738b3e1933bad8": {
      "model_module": "@jupyter-widgets/controls",
      "model_module_version": "1.5.0",
      "model_name": "FloatProgressModel",
      "state": {
       "_dom_classes": [],
       "_model_module": "@jupyter-widgets/controls",
       "_model_module_version": "1.5.0",
       "_model_name": "FloatProgressModel",
       "_view_count": null,
       "_view_module": "@jupyter-widgets/controls",
       "_view_module_version": "1.5.0",
       "_view_name": "ProgressView",
       "bar_style": "success",
       "description": "",
       "description_tooltip": null,
       "layout": "IPY_MODEL_817701c9e41e4c5f84fb3f4add3829d0",
       "max": 570.0,
       "min": 0.0,
       "orientation": "horizontal",
       "style": "IPY_MODEL_f1fa972a067c48e39bbdf1a0aedc224c",
       "value": 570.0
      }
     },
     "884e7e5d01b3451fa6619e7dbcd4a6ae": {
      "model_module": "@jupyter-widgets/controls",
      "model_module_version": "1.5.0",
      "model_name": "HBoxModel",
      "state": {
       "_dom_classes": [],
       "_model_module": "@jupyter-widgets/controls",
       "_model_module_version": "1.5.0",
       "_model_name": "HBoxModel",
       "_view_count": null,
       "_view_module": "@jupyter-widgets/controls",
       "_view_module_version": "1.5.0",
       "_view_name": "HBoxView",
       "box_style": "",
       "children": [
        "IPY_MODEL_c9445b442b534391ad463402e086f183",
        "IPY_MODEL_cfa03faa238b4800b784cac00868380b",
        "IPY_MODEL_e4d1ce2a6e0d4ae2a73296b358e9d3bf"
       ],
       "layout": "IPY_MODEL_45b8c6609eef45128000f13f2613b8e0"
      }
     },
     "88df2eb1ac7549df9bed2e212089523d": {
      "model_module": "@jupyter-widgets/controls",
      "model_module_version": "1.5.0",
      "model_name": "DescriptionStyleModel",
      "state": {
       "_model_module": "@jupyter-widgets/controls",
       "_model_module_version": "1.5.0",
       "_model_name": "DescriptionStyleModel",
       "_view_count": null,
       "_view_module": "@jupyter-widgets/base",
       "_view_module_version": "1.2.0",
       "_view_name": "StyleView",
       "description_width": ""
      }
     },
     "8ac5a249aefa42cc907ea6f7951a62b6": {
      "model_module": "@jupyter-widgets/controls",
      "model_module_version": "1.5.0",
      "model_name": "FloatProgressModel",
      "state": {
       "_dom_classes": [],
       "_model_module": "@jupyter-widgets/controls",
       "_model_module_version": "1.5.0",
       "_model_name": "FloatProgressModel",
       "_view_count": null,
       "_view_module": "@jupyter-widgets/controls",
       "_view_module_version": "1.5.0",
       "_view_name": "ProgressView",
       "bar_style": "success",
       "description": "",
       "description_tooltip": null,
       "layout": "IPY_MODEL_eda68e7397cc485e92ca1e5b69f2702f",
       "max": 466062.0,
       "min": 0.0,
       "orientation": "horizontal",
       "style": "IPY_MODEL_60cba800493241848bd1e81286898372",
       "value": 466062.0
      }
     },
     "8c12e78dacc347b2afd24329184505cd": {
      "model_module": "@jupyter-widgets/controls",
      "model_module_version": "1.5.0",
      "model_name": "HTMLModel",
      "state": {
       "_dom_classes": [],
       "_model_module": "@jupyter-widgets/controls",
       "_model_module_version": "1.5.0",
       "_model_name": "HTMLModel",
       "_view_count": null,
       "_view_module": "@jupyter-widgets/controls",
       "_view_module_version": "1.5.0",
       "_view_name": "HTMLView",
       "description": "",
       "description_tooltip": null,
       "layout": "IPY_MODEL_dfe3d1a9aab44c6a8252df0934db40a7",
       "placeholder": "​",
       "style": "IPY_MODEL_e75636d372974bd1bdea15ccc60902a0",
       "value": "Downloading: 100%"
      }
     },
     "8febe4a9cdaf4e4ea0086ce44fd6e8b0": {
      "model_module": "@jupyter-widgets/base",
      "model_module_version": "1.2.0",
      "model_name": "LayoutModel",
      "state": {
       "_model_module": "@jupyter-widgets/base",
       "_model_module_version": "1.2.0",
       "_model_name": "LayoutModel",
       "_view_count": null,
       "_view_module": "@jupyter-widgets/base",
       "_view_module_version": "1.2.0",
       "_view_name": "LayoutView",
       "align_content": null,
       "align_items": null,
       "align_self": null,
       "border": null,
       "bottom": null,
       "display": null,
       "flex": null,
       "flex_flow": null,
       "grid_area": null,
       "grid_auto_columns": null,
       "grid_auto_flow": null,
       "grid_auto_rows": null,
       "grid_column": null,
       "grid_gap": null,
       "grid_row": null,
       "grid_template_areas": null,
       "grid_template_columns": null,
       "grid_template_rows": null,
       "height": null,
       "justify_content": null,
       "justify_items": null,
       "left": null,
       "margin": null,
       "max_height": null,
       "max_width": null,
       "min_height": null,
       "min_width": null,
       "object_fit": null,
       "object_position": null,
       "order": null,
       "overflow": null,
       "overflow_x": null,
       "overflow_y": null,
       "padding": null,
       "right": null,
       "top": null,
       "visibility": null,
       "width": null
      }
     },
     "a2122bc6ca02428abdb6fb904680d47f": {
      "model_module": "@jupyter-widgets/base",
      "model_module_version": "1.2.0",
      "model_name": "LayoutModel",
      "state": {
       "_model_module": "@jupyter-widgets/base",
       "_model_module_version": "1.2.0",
       "_model_name": "LayoutModel",
       "_view_count": null,
       "_view_module": "@jupyter-widgets/base",
       "_view_module_version": "1.2.0",
       "_view_name": "LayoutView",
       "align_content": null,
       "align_items": null,
       "align_self": null,
       "border": null,
       "bottom": null,
       "display": null,
       "flex": null,
       "flex_flow": null,
       "grid_area": null,
       "grid_auto_columns": null,
       "grid_auto_flow": null,
       "grid_auto_rows": null,
       "grid_column": null,
       "grid_gap": null,
       "grid_row": null,
       "grid_template_areas": null,
       "grid_template_columns": null,
       "grid_template_rows": null,
       "height": null,
       "justify_content": null,
       "justify_items": null,
       "left": null,
       "margin": null,
       "max_height": null,
       "max_width": null,
       "min_height": null,
       "min_width": null,
       "object_fit": null,
       "object_position": null,
       "order": null,
       "overflow": null,
       "overflow_x": null,
       "overflow_y": null,
       "padding": null,
       "right": null,
       "top": null,
       "visibility": null,
       "width": null
      }
     },
     "a8bffc8396d349b6aed1fc3aa09d223b": {
      "model_module": "@jupyter-widgets/base",
      "model_module_version": "1.2.0",
      "model_name": "LayoutModel",
      "state": {
       "_model_module": "@jupyter-widgets/base",
       "_model_module_version": "1.2.0",
       "_model_name": "LayoutModel",
       "_view_count": null,
       "_view_module": "@jupyter-widgets/base",
       "_view_module_version": "1.2.0",
       "_view_name": "LayoutView",
       "align_content": null,
       "align_items": null,
       "align_self": null,
       "border": null,
       "bottom": null,
       "display": null,
       "flex": null,
       "flex_flow": null,
       "grid_area": null,
       "grid_auto_columns": null,
       "grid_auto_flow": null,
       "grid_auto_rows": null,
       "grid_column": null,
       "grid_gap": null,
       "grid_row": null,
       "grid_template_areas": null,
       "grid_template_columns": null,
       "grid_template_rows": null,
       "height": null,
       "justify_content": null,
       "justify_items": null,
       "left": null,
       "margin": null,
       "max_height": null,
       "max_width": null,
       "min_height": null,
       "min_width": null,
       "object_fit": null,
       "object_position": null,
       "order": null,
       "overflow": null,
       "overflow_x": null,
       "overflow_y": null,
       "padding": null,
       "right": null,
       "top": null,
       "visibility": null,
       "width": null
      }
     },
     "ac2f92aa61ea442285f5221a679c47f5": {
      "model_module": "@jupyter-widgets/controls",
      "model_module_version": "1.5.0",
      "model_name": "ProgressStyleModel",
      "state": {
       "_model_module": "@jupyter-widgets/controls",
       "_model_module_version": "1.5.0",
       "_model_name": "ProgressStyleModel",
       "_view_count": null,
       "_view_module": "@jupyter-widgets/base",
       "_view_module_version": "1.2.0",
       "_view_name": "StyleView",
       "bar_color": null,
       "description_width": ""
      }
     },
     "bbece4c878a646f082854e3d95e2f183": {
      "model_module": "@jupyter-widgets/controls",
      "model_module_version": "1.5.0",
      "model_name": "DescriptionStyleModel",
      "state": {
       "_model_module": "@jupyter-widgets/controls",
       "_model_module_version": "1.5.0",
       "_model_name": "DescriptionStyleModel",
       "_view_count": null,
       "_view_module": "@jupyter-widgets/base",
       "_view_module_version": "1.2.0",
       "_view_name": "StyleView",
       "description_width": ""
      }
     },
     "c34bea92072e4673bc6aa1d33d2ed2ed": {
      "model_module": "@jupyter-widgets/controls",
      "model_module_version": "1.5.0",
      "model_name": "HTMLModel",
      "state": {
       "_dom_classes": [],
       "_model_module": "@jupyter-widgets/controls",
       "_model_module_version": "1.5.0",
       "_model_name": "HTMLModel",
       "_view_count": null,
       "_view_module": "@jupyter-widgets/controls",
       "_view_module_version": "1.5.0",
       "_view_name": "HTMLView",
       "description": "",
       "description_tooltip": null,
       "layout": "IPY_MODEL_a8bffc8396d349b6aed1fc3aa09d223b",
       "placeholder": "​",
       "style": "IPY_MODEL_bbece4c878a646f082854e3d95e2f183",
       "value": " 455k/455k [00:00&lt;00:00, 944kB/s]"
      }
     },
     "c64ddcb27edc4a0d8e703df808cfc547": {
      "model_module": "@jupyter-widgets/controls",
      "model_module_version": "1.5.0",
      "model_name": "HBoxModel",
      "state": {
       "_dom_classes": [],
       "_model_module": "@jupyter-widgets/controls",
       "_model_module_version": "1.5.0",
       "_model_name": "HBoxModel",
       "_view_count": null,
       "_view_module": "@jupyter-widgets/controls",
       "_view_module_version": "1.5.0",
       "_view_name": "HBoxView",
       "box_style": "",
       "children": [
        "IPY_MODEL_85bd124afca8433280526a40bb50c121",
        "IPY_MODEL_2ba8ed6a025040d38e2633ec03333023",
        "IPY_MODEL_3243b471c77d43749430ad07592c90da"
       ],
       "layout": "IPY_MODEL_1f1362b2924d49ffa4b67a289f5ccc1e"
      }
     },
     "c73db49c171e429db32df675f0ef8a3f": {
      "model_module": "@jupyter-widgets/base",
      "model_module_version": "1.2.0",
      "model_name": "LayoutModel",
      "state": {
       "_model_module": "@jupyter-widgets/base",
       "_model_module_version": "1.2.0",
       "_model_name": "LayoutModel",
       "_view_count": null,
       "_view_module": "@jupyter-widgets/base",
       "_view_module_version": "1.2.0",
       "_view_name": "LayoutView",
       "align_content": null,
       "align_items": null,
       "align_self": null,
       "border": null,
       "bottom": null,
       "display": null,
       "flex": null,
       "flex_flow": null,
       "grid_area": null,
       "grid_auto_columns": null,
       "grid_auto_flow": null,
       "grid_auto_rows": null,
       "grid_column": null,
       "grid_gap": null,
       "grid_row": null,
       "grid_template_areas": null,
       "grid_template_columns": null,
       "grid_template_rows": null,
       "height": null,
       "justify_content": null,
       "justify_items": null,
       "left": null,
       "margin": null,
       "max_height": null,
       "max_width": null,
       "min_height": null,
       "min_width": null,
       "object_fit": null,
       "object_position": null,
       "order": null,
       "overflow": null,
       "overflow_x": null,
       "overflow_y": null,
       "padding": null,
       "right": null,
       "top": null,
       "visibility": null,
       "width": null
      }
     },
     "c9445b442b534391ad463402e086f183": {
      "model_module": "@jupyter-widgets/controls",
      "model_module_version": "1.5.0",
      "model_name": "HTMLModel",
      "state": {
       "_dom_classes": [],
       "_model_module": "@jupyter-widgets/controls",
       "_model_module_version": "1.5.0",
       "_model_name": "HTMLModel",
       "_view_count": null,
       "_view_module": "@jupyter-widgets/controls",
       "_view_module_version": "1.5.0",
       "_view_name": "HTMLView",
       "description": "",
       "description_tooltip": null,
       "layout": "IPY_MODEL_6266d78408c34e36bcb88cdcb5a8cbcb",
       "placeholder": "​",
       "style": "IPY_MODEL_88df2eb1ac7549df9bed2e212089523d",
       "value": "Downloading: 100%"
      }
     },
     "cfa03faa238b4800b784cac00868380b": {
      "model_module": "@jupyter-widgets/controls",
      "model_module_version": "1.5.0",
      "model_name": "FloatProgressModel",
      "state": {
       "_dom_classes": [],
       "_model_module": "@jupyter-widgets/controls",
       "_model_module_version": "1.5.0",
       "_model_name": "FloatProgressModel",
       "_view_count": null,
       "_view_module": "@jupyter-widgets/controls",
       "_view_module_version": "1.5.0",
       "_view_name": "ProgressView",
       "bar_style": "success",
       "description": "",
       "description_tooltip": null,
       "layout": "IPY_MODEL_5c45083588f84c169d4af590cba1b28e",
       "max": 28.0,
       "min": 0.0,
       "orientation": "horizontal",
       "style": "IPY_MODEL_ac2f92aa61ea442285f5221a679c47f5",
       "value": 28.0
      }
     },
     "d6ad44899d7f4ecca2cd0436ddb4aea4": {
      "model_module": "@jupyter-widgets/base",
      "model_module_version": "1.2.0",
      "model_name": "LayoutModel",
      "state": {
       "_model_module": "@jupyter-widgets/base",
       "_model_module_version": "1.2.0",
       "_model_name": "LayoutModel",
       "_view_count": null,
       "_view_module": "@jupyter-widgets/base",
       "_view_module_version": "1.2.0",
       "_view_name": "LayoutView",
       "align_content": null,
       "align_items": null,
       "align_self": null,
       "border": null,
       "bottom": null,
       "display": null,
       "flex": null,
       "flex_flow": null,
       "grid_area": null,
       "grid_auto_columns": null,
       "grid_auto_flow": null,
       "grid_auto_rows": null,
       "grid_column": null,
       "grid_gap": null,
       "grid_row": null,
       "grid_template_areas": null,
       "grid_template_columns": null,
       "grid_template_rows": null,
       "height": null,
       "justify_content": null,
       "justify_items": null,
       "left": null,
       "margin": null,
       "max_height": null,
       "max_width": null,
       "min_height": null,
       "min_width": null,
       "object_fit": null,
       "object_position": null,
       "order": null,
       "overflow": null,
       "overflow_x": null,
       "overflow_y": null,
       "padding": null,
       "right": null,
       "top": null,
       "visibility": null,
       "width": null
      }
     },
     "dfe3d1a9aab44c6a8252df0934db40a7": {
      "model_module": "@jupyter-widgets/base",
      "model_module_version": "1.2.0",
      "model_name": "LayoutModel",
      "state": {
       "_model_module": "@jupyter-widgets/base",
       "_model_module_version": "1.2.0",
       "_model_name": "LayoutModel",
       "_view_count": null,
       "_view_module": "@jupyter-widgets/base",
       "_view_module_version": "1.2.0",
       "_view_name": "LayoutView",
       "align_content": null,
       "align_items": null,
       "align_self": null,
       "border": null,
       "bottom": null,
       "display": null,
       "flex": null,
       "flex_flow": null,
       "grid_area": null,
       "grid_auto_columns": null,
       "grid_auto_flow": null,
       "grid_auto_rows": null,
       "grid_column": null,
       "grid_gap": null,
       "grid_row": null,
       "grid_template_areas": null,
       "grid_template_columns": null,
       "grid_template_rows": null,
       "height": null,
       "justify_content": null,
       "justify_items": null,
       "left": null,
       "margin": null,
       "max_height": null,
       "max_width": null,
       "min_height": null,
       "min_width": null,
       "object_fit": null,
       "object_position": null,
       "order": null,
       "overflow": null,
       "overflow_x": null,
       "overflow_y": null,
       "padding": null,
       "right": null,
       "top": null,
       "visibility": null,
       "width": null
      }
     },
     "e271f791c0bd4af9bba66d7acedd759a": {
      "model_module": "@jupyter-widgets/controls",
      "model_module_version": "1.5.0",
      "model_name": "HTMLModel",
      "state": {
       "_dom_classes": [],
       "_model_module": "@jupyter-widgets/controls",
       "_model_module_version": "1.5.0",
       "_model_name": "HTMLModel",
       "_view_count": null,
       "_view_module": "@jupyter-widgets/controls",
       "_view_module_version": "1.5.0",
       "_view_name": "HTMLView",
       "description": "",
       "description_tooltip": null,
       "layout": "IPY_MODEL_d6ad44899d7f4ecca2cd0436ddb4aea4",
       "placeholder": "​",
       "style": "IPY_MODEL_7d4c4e3af0174a12b93fe46bfa5de5a6",
       "value": "Downloading: 100%"
      }
     },
     "e39216c614dc43aeaf641584056dee85": {
      "model_module": "@jupyter-widgets/controls",
      "model_module_version": "1.5.0",
      "model_name": "DescriptionStyleModel",
      "state": {
       "_model_module": "@jupyter-widgets/controls",
       "_model_module_version": "1.5.0",
       "_model_name": "DescriptionStyleModel",
       "_view_count": null,
       "_view_module": "@jupyter-widgets/base",
       "_view_module_version": "1.2.0",
       "_view_name": "StyleView",
       "description_width": ""
      }
     },
     "e3c9b3bf7bdf4a72854cbab97f666db3": {
      "model_module": "@jupyter-widgets/controls",
      "model_module_version": "1.5.0",
      "model_name": "ProgressStyleModel",
      "state": {
       "_model_module": "@jupyter-widgets/controls",
       "_model_module_version": "1.5.0",
       "_model_name": "ProgressStyleModel",
       "_view_count": null,
       "_view_module": "@jupyter-widgets/base",
       "_view_module_version": "1.2.0",
       "_view_name": "StyleView",
       "bar_color": null,
       "description_width": ""
      }
     },
     "e42de00ecadc4470bb19cc6705b5893d": {
      "model_module": "@jupyter-widgets/controls",
      "model_module_version": "1.5.0",
      "model_name": "HBoxModel",
      "state": {
       "_dom_classes": [],
       "_model_module": "@jupyter-widgets/controls",
       "_model_module_version": "1.5.0",
       "_model_name": "HBoxModel",
       "_view_count": null,
       "_view_module": "@jupyter-widgets/controls",
       "_view_module_version": "1.5.0",
       "_view_name": "HBoxView",
       "box_style": "",
       "children": [
        "IPY_MODEL_e271f791c0bd4af9bba66d7acedd759a",
        "IPY_MODEL_728d6169408e4c698b6e9e13041540de",
        "IPY_MODEL_480dda025c444484abd8b625f70d282d"
       ],
       "layout": "IPY_MODEL_c73db49c171e429db32df675f0ef8a3f"
      }
     },
     "e4d1ce2a6e0d4ae2a73296b358e9d3bf": {
      "model_module": "@jupyter-widgets/controls",
      "model_module_version": "1.5.0",
      "model_name": "HTMLModel",
      "state": {
       "_dom_classes": [],
       "_model_module": "@jupyter-widgets/controls",
       "_model_module_version": "1.5.0",
       "_model_name": "HTMLModel",
       "_view_count": null,
       "_view_module": "@jupyter-widgets/controls",
       "_view_module_version": "1.5.0",
       "_view_name": "HTMLView",
       "description": "",
       "description_tooltip": null,
       "layout": "IPY_MODEL_f181c609c7d94ea2b8aea5a1678e0d64",
       "placeholder": "​",
       "style": "IPY_MODEL_5c310f97bf8b4c70aa3d519b5ad97d06",
       "value": " 28.0/28.0 [00:00&lt;00:00, 1.03kB/s]"
      }
     },
     "e53cac65ea924b0abcf36db66c13d7fb": {
      "model_module": "@jupyter-widgets/base",
      "model_module_version": "1.2.0",
      "model_name": "LayoutModel",
      "state": {
       "_model_module": "@jupyter-widgets/base",
       "_model_module_version": "1.2.0",
       "_model_name": "LayoutModel",
       "_view_count": null,
       "_view_module": "@jupyter-widgets/base",
       "_view_module_version": "1.2.0",
       "_view_name": "LayoutView",
       "align_content": null,
       "align_items": null,
       "align_self": null,
       "border": null,
       "bottom": null,
       "display": null,
       "flex": null,
       "flex_flow": null,
       "grid_area": null,
       "grid_auto_columns": null,
       "grid_auto_flow": null,
       "grid_auto_rows": null,
       "grid_column": null,
       "grid_gap": null,
       "grid_row": null,
       "grid_template_areas": null,
       "grid_template_columns": null,
       "grid_template_rows": null,
       "height": null,
       "justify_content": null,
       "justify_items": null,
       "left": null,
       "margin": null,
       "max_height": null,
       "max_width": null,
       "min_height": null,
       "min_width": null,
       "object_fit": null,
       "object_position": null,
       "order": null,
       "overflow": null,
       "overflow_x": null,
       "overflow_y": null,
       "padding": null,
       "right": null,
       "top": null,
       "visibility": null,
       "width": null
      }
     },
     "e75636d372974bd1bdea15ccc60902a0": {
      "model_module": "@jupyter-widgets/controls",
      "model_module_version": "1.5.0",
      "model_name": "DescriptionStyleModel",
      "state": {
       "_model_module": "@jupyter-widgets/controls",
       "_model_module_version": "1.5.0",
       "_model_name": "DescriptionStyleModel",
       "_view_count": null,
       "_view_module": "@jupyter-widgets/base",
       "_view_module_version": "1.2.0",
       "_view_name": "StyleView",
       "description_width": ""
      }
     },
     "eda68e7397cc485e92ca1e5b69f2702f": {
      "model_module": "@jupyter-widgets/base",
      "model_module_version": "1.2.0",
      "model_name": "LayoutModel",
      "state": {
       "_model_module": "@jupyter-widgets/base",
       "_model_module_version": "1.2.0",
       "_model_name": "LayoutModel",
       "_view_count": null,
       "_view_module": "@jupyter-widgets/base",
       "_view_module_version": "1.2.0",
       "_view_name": "LayoutView",
       "align_content": null,
       "align_items": null,
       "align_self": null,
       "border": null,
       "bottom": null,
       "display": null,
       "flex": null,
       "flex_flow": null,
       "grid_area": null,
       "grid_auto_columns": null,
       "grid_auto_flow": null,
       "grid_auto_rows": null,
       "grid_column": null,
       "grid_gap": null,
       "grid_row": null,
       "grid_template_areas": null,
       "grid_template_columns": null,
       "grid_template_rows": null,
       "height": null,
       "justify_content": null,
       "justify_items": null,
       "left": null,
       "margin": null,
       "max_height": null,
       "max_width": null,
       "min_height": null,
       "min_width": null,
       "object_fit": null,
       "object_position": null,
       "order": null,
       "overflow": null,
       "overflow_x": null,
       "overflow_y": null,
       "padding": null,
       "right": null,
       "top": null,
       "visibility": null,
       "width": null
      }
     },
     "f181c609c7d94ea2b8aea5a1678e0d64": {
      "model_module": "@jupyter-widgets/base",
      "model_module_version": "1.2.0",
      "model_name": "LayoutModel",
      "state": {
       "_model_module": "@jupyter-widgets/base",
       "_model_module_version": "1.2.0",
       "_model_name": "LayoutModel",
       "_view_count": null,
       "_view_module": "@jupyter-widgets/base",
       "_view_module_version": "1.2.0",
       "_view_name": "LayoutView",
       "align_content": null,
       "align_items": null,
       "align_self": null,
       "border": null,
       "bottom": null,
       "display": null,
       "flex": null,
       "flex_flow": null,
       "grid_area": null,
       "grid_auto_columns": null,
       "grid_auto_flow": null,
       "grid_auto_rows": null,
       "grid_column": null,
       "grid_gap": null,
       "grid_row": null,
       "grid_template_areas": null,
       "grid_template_columns": null,
       "grid_template_rows": null,
       "height": null,
       "justify_content": null,
       "justify_items": null,
       "left": null,
       "margin": null,
       "max_height": null,
       "max_width": null,
       "min_height": null,
       "min_width": null,
       "object_fit": null,
       "object_position": null,
       "order": null,
       "overflow": null,
       "overflow_x": null,
       "overflow_y": null,
       "padding": null,
       "right": null,
       "top": null,
       "visibility": null,
       "width": null
      }
     },
     "f1fa972a067c48e39bbdf1a0aedc224c": {
      "model_module": "@jupyter-widgets/controls",
      "model_module_version": "1.5.0",
      "model_name": "ProgressStyleModel",
      "state": {
       "_model_module": "@jupyter-widgets/controls",
       "_model_module_version": "1.5.0",
       "_model_name": "ProgressStyleModel",
       "_view_count": null,
       "_view_module": "@jupyter-widgets/base",
       "_view_module_version": "1.2.0",
       "_view_name": "StyleView",
       "bar_color": null,
       "description_width": ""
      }
     },
     "f6db1da0eff643c48dd90c91c4c5d3b5": {
      "model_module": "@jupyter-widgets/base",
      "model_module_version": "1.2.0",
      "model_name": "LayoutModel",
      "state": {
       "_model_module": "@jupyter-widgets/base",
       "_model_module_version": "1.2.0",
       "_model_name": "LayoutModel",
       "_view_count": null,
       "_view_module": "@jupyter-widgets/base",
       "_view_module_version": "1.2.0",
       "_view_name": "LayoutView",
       "align_content": null,
       "align_items": null,
       "align_self": null,
       "border": null,
       "bottom": null,
       "display": null,
       "flex": null,
       "flex_flow": null,
       "grid_area": null,
       "grid_auto_columns": null,
       "grid_auto_flow": null,
       "grid_auto_rows": null,
       "grid_column": null,
       "grid_gap": null,
       "grid_row": null,
       "grid_template_areas": null,
       "grid_template_columns": null,
       "grid_template_rows": null,
       "height": null,
       "justify_content": null,
       "justify_items": null,
       "left": null,
       "margin": null,
       "max_height": null,
       "max_width": null,
       "min_height": null,
       "min_width": null,
       "object_fit": null,
       "object_position": null,
       "order": null,
       "overflow": null,
       "overflow_x": null,
       "overflow_y": null,
       "padding": null,
       "right": null,
       "top": null,
       "visibility": null,
       "width": null
      }
     }
    },
    "version_major": 2,
    "version_minor": 0
   }
  }
 },
 "nbformat": 4,
 "nbformat_minor": 5
}
